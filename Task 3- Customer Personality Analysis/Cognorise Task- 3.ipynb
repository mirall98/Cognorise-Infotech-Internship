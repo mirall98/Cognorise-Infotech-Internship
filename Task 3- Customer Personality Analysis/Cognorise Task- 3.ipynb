{
 "cells": [
  {
   "cell_type": "markdown",
   "id": "643a42a3",
   "metadata": {},
   "source": [
    "## Author: Miral Patel"
   ]
  },
  {
   "cell_type": "markdown",
   "id": "8c0150d3",
   "metadata": {},
   "source": [
    "## Cognorise Infotech Internship April 2024"
   ]
  },
  {
   "cell_type": "markdown",
   "id": "ae0f4b19",
   "metadata": {},
   "source": [
    "## Task 3 - Customer Personality Analysis"
   ]
  },
  {
   "cell_type": "markdown",
   "id": "3a8aed13",
   "metadata": {},
   "source": [
    "### Problem Statement:-"
   ]
  },
  {
   "cell_type": "markdown",
   "id": "c1cd0b54",
   "metadata": {},
   "source": [
    "Customer Personality Analysis is a detailed analysis of a company’s ideal\n",
    "customers. It helps a business to better understand its customers and makes it\n",
    "easier for them to modify products according to the specific needs, behaviors and\n",
    "concerns of different types of customers. Customer personality analysis helps a business to modify its product based on its\n",
    "target customers from different types of customer segments. For example, instead\n",
    "of spending money to market a new product to every customer in the company’s\n",
    "database, a company can analyze which customer segment is most likely to buy\n",
    "the product and then market the product only on that particular segment."
   ]
  },
  {
   "cell_type": "markdown",
   "id": "f0b74fa0",
   "metadata": {},
   "source": [
    "### Importing Necessary Libraries"
   ]
  },
  {
   "cell_type": "code",
   "execution_count": 1,
   "id": "f749b50e",
   "metadata": {},
   "outputs": [],
   "source": [
    "import pandas as pd                 # For data manipulation and analysis\n",
    "import numpy as np                  # For numerical computations and handling arrays\n",
    "import matplotlib.pyplot as plt     # For data visualization\n",
    "import seaborn as sns               # For enhanced data visualization\n",
    "from sklearn.model_selection import train_test_split      # For dataset splitting\n",
    "from datetime import datetime       # For working with dates and times\n",
    "import warnings\n",
    "warnings.filterwarnings(\"ignore\")                         # Disable warnings\n",
    "%matplotlib inline"
   ]
  },
  {
   "cell_type": "markdown",
   "id": "6c7bed7e",
   "metadata": {},
   "source": [
    "### Importing The Dataset"
   ]
  },
  {
   "cell_type": "code",
   "execution_count": 7,
   "id": "bb09268a",
   "metadata": {},
   "outputs": [
    {
     "data": {
      "text/html": [
       "<div>\n",
       "<style scoped>\n",
       "    .dataframe tbody tr th:only-of-type {\n",
       "        vertical-align: middle;\n",
       "    }\n",
       "\n",
       "    .dataframe tbody tr th {\n",
       "        vertical-align: top;\n",
       "    }\n",
       "\n",
       "    .dataframe thead th {\n",
       "        text-align: right;\n",
       "    }\n",
       "</style>\n",
       "<table border=\"1\" class=\"dataframe\">\n",
       "  <thead>\n",
       "    <tr style=\"text-align: right;\">\n",
       "      <th></th>\n",
       "      <th>ID</th>\n",
       "      <th>Year_Birth</th>\n",
       "      <th>Education</th>\n",
       "      <th>Marital_Status</th>\n",
       "      <th>Income</th>\n",
       "      <th>Kidhome</th>\n",
       "      <th>Teenhome</th>\n",
       "      <th>Dt_Customer</th>\n",
       "      <th>Recency</th>\n",
       "      <th>MntWines</th>\n",
       "      <th>...</th>\n",
       "      <th>NumStorePurchases</th>\n",
       "      <th>NumWebVisitsMonth</th>\n",
       "      <th>AcceptedCmp3</th>\n",
       "      <th>AcceptedCmp4</th>\n",
       "      <th>AcceptedCmp5</th>\n",
       "      <th>AcceptedCmp1</th>\n",
       "      <th>AcceptedCmp2</th>\n",
       "      <th>Response</th>\n",
       "      <th>Complain</th>\n",
       "      <th>Country</th>\n",
       "    </tr>\n",
       "  </thead>\n",
       "  <tbody>\n",
       "    <tr>\n",
       "      <th>0</th>\n",
       "      <td>1826</td>\n",
       "      <td>1970</td>\n",
       "      <td>Graduation</td>\n",
       "      <td>Divorced</td>\n",
       "      <td>$84,835.00</td>\n",
       "      <td>0</td>\n",
       "      <td>0</td>\n",
       "      <td>6/16/14</td>\n",
       "      <td>0</td>\n",
       "      <td>189</td>\n",
       "      <td>...</td>\n",
       "      <td>6</td>\n",
       "      <td>1</td>\n",
       "      <td>0</td>\n",
       "      <td>0</td>\n",
       "      <td>0</td>\n",
       "      <td>0</td>\n",
       "      <td>0</td>\n",
       "      <td>1</td>\n",
       "      <td>0</td>\n",
       "      <td>SP</td>\n",
       "    </tr>\n",
       "    <tr>\n",
       "      <th>1</th>\n",
       "      <td>1</td>\n",
       "      <td>1961</td>\n",
       "      <td>Graduation</td>\n",
       "      <td>Single</td>\n",
       "      <td>$57,091.00</td>\n",
       "      <td>0</td>\n",
       "      <td>0</td>\n",
       "      <td>6/15/14</td>\n",
       "      <td>0</td>\n",
       "      <td>464</td>\n",
       "      <td>...</td>\n",
       "      <td>7</td>\n",
       "      <td>5</td>\n",
       "      <td>0</td>\n",
       "      <td>0</td>\n",
       "      <td>0</td>\n",
       "      <td>0</td>\n",
       "      <td>1</td>\n",
       "      <td>1</td>\n",
       "      <td>0</td>\n",
       "      <td>CA</td>\n",
       "    </tr>\n",
       "    <tr>\n",
       "      <th>2</th>\n",
       "      <td>10476</td>\n",
       "      <td>1958</td>\n",
       "      <td>Graduation</td>\n",
       "      <td>Married</td>\n",
       "      <td>$67,267.00</td>\n",
       "      <td>0</td>\n",
       "      <td>1</td>\n",
       "      <td>5/13/14</td>\n",
       "      <td>0</td>\n",
       "      <td>134</td>\n",
       "      <td>...</td>\n",
       "      <td>5</td>\n",
       "      <td>2</td>\n",
       "      <td>0</td>\n",
       "      <td>0</td>\n",
       "      <td>0</td>\n",
       "      <td>0</td>\n",
       "      <td>0</td>\n",
       "      <td>0</td>\n",
       "      <td>0</td>\n",
       "      <td>US</td>\n",
       "    </tr>\n",
       "    <tr>\n",
       "      <th>3</th>\n",
       "      <td>1386</td>\n",
       "      <td>1967</td>\n",
       "      <td>Graduation</td>\n",
       "      <td>Together</td>\n",
       "      <td>$32,474.00</td>\n",
       "      <td>1</td>\n",
       "      <td>1</td>\n",
       "      <td>5/11/14</td>\n",
       "      <td>0</td>\n",
       "      <td>10</td>\n",
       "      <td>...</td>\n",
       "      <td>2</td>\n",
       "      <td>7</td>\n",
       "      <td>0</td>\n",
       "      <td>0</td>\n",
       "      <td>0</td>\n",
       "      <td>0</td>\n",
       "      <td>0</td>\n",
       "      <td>0</td>\n",
       "      <td>0</td>\n",
       "      <td>AUS</td>\n",
       "    </tr>\n",
       "    <tr>\n",
       "      <th>4</th>\n",
       "      <td>5371</td>\n",
       "      <td>1989</td>\n",
       "      <td>Graduation</td>\n",
       "      <td>Single</td>\n",
       "      <td>$21,474.00</td>\n",
       "      <td>1</td>\n",
       "      <td>0</td>\n",
       "      <td>4/8/14</td>\n",
       "      <td>0</td>\n",
       "      <td>6</td>\n",
       "      <td>...</td>\n",
       "      <td>2</td>\n",
       "      <td>7</td>\n",
       "      <td>1</td>\n",
       "      <td>0</td>\n",
       "      <td>0</td>\n",
       "      <td>0</td>\n",
       "      <td>0</td>\n",
       "      <td>1</td>\n",
       "      <td>0</td>\n",
       "      <td>SP</td>\n",
       "    </tr>\n",
       "    <tr>\n",
       "      <th>...</th>\n",
       "      <td>...</td>\n",
       "      <td>...</td>\n",
       "      <td>...</td>\n",
       "      <td>...</td>\n",
       "      <td>...</td>\n",
       "      <td>...</td>\n",
       "      <td>...</td>\n",
       "      <td>...</td>\n",
       "      <td>...</td>\n",
       "      <td>...</td>\n",
       "      <td>...</td>\n",
       "      <td>...</td>\n",
       "      <td>...</td>\n",
       "      <td>...</td>\n",
       "      <td>...</td>\n",
       "      <td>...</td>\n",
       "      <td>...</td>\n",
       "      <td>...</td>\n",
       "      <td>...</td>\n",
       "      <td>...</td>\n",
       "      <td>...</td>\n",
       "    </tr>\n",
       "    <tr>\n",
       "      <th>2235</th>\n",
       "      <td>10142</td>\n",
       "      <td>1976</td>\n",
       "      <td>PhD</td>\n",
       "      <td>Divorced</td>\n",
       "      <td>$66,476.00</td>\n",
       "      <td>0</td>\n",
       "      <td>1</td>\n",
       "      <td>3/7/13</td>\n",
       "      <td>99</td>\n",
       "      <td>372</td>\n",
       "      <td>...</td>\n",
       "      <td>11</td>\n",
       "      <td>4</td>\n",
       "      <td>0</td>\n",
       "      <td>0</td>\n",
       "      <td>0</td>\n",
       "      <td>0</td>\n",
       "      <td>0</td>\n",
       "      <td>0</td>\n",
       "      <td>0</td>\n",
       "      <td>US</td>\n",
       "    </tr>\n",
       "    <tr>\n",
       "      <th>2236</th>\n",
       "      <td>5263</td>\n",
       "      <td>1977</td>\n",
       "      <td>2n Cycle</td>\n",
       "      <td>Married</td>\n",
       "      <td>$31,056.00</td>\n",
       "      <td>1</td>\n",
       "      <td>0</td>\n",
       "      <td>1/22/13</td>\n",
       "      <td>99</td>\n",
       "      <td>5</td>\n",
       "      <td>...</td>\n",
       "      <td>3</td>\n",
       "      <td>8</td>\n",
       "      <td>0</td>\n",
       "      <td>0</td>\n",
       "      <td>0</td>\n",
       "      <td>0</td>\n",
       "      <td>0</td>\n",
       "      <td>0</td>\n",
       "      <td>0</td>\n",
       "      <td>SP</td>\n",
       "    </tr>\n",
       "    <tr>\n",
       "      <th>2237</th>\n",
       "      <td>22</td>\n",
       "      <td>1976</td>\n",
       "      <td>Graduation</td>\n",
       "      <td>Divorced</td>\n",
       "      <td>$46,310.00</td>\n",
       "      <td>1</td>\n",
       "      <td>0</td>\n",
       "      <td>12/3/12</td>\n",
       "      <td>99</td>\n",
       "      <td>185</td>\n",
       "      <td>...</td>\n",
       "      <td>5</td>\n",
       "      <td>8</td>\n",
       "      <td>0</td>\n",
       "      <td>0</td>\n",
       "      <td>0</td>\n",
       "      <td>0</td>\n",
       "      <td>0</td>\n",
       "      <td>0</td>\n",
       "      <td>0</td>\n",
       "      <td>SP</td>\n",
       "    </tr>\n",
       "    <tr>\n",
       "      <th>2238</th>\n",
       "      <td>528</td>\n",
       "      <td>1978</td>\n",
       "      <td>Graduation</td>\n",
       "      <td>Married</td>\n",
       "      <td>$65,819.00</td>\n",
       "      <td>0</td>\n",
       "      <td>0</td>\n",
       "      <td>11/29/12</td>\n",
       "      <td>99</td>\n",
       "      <td>267</td>\n",
       "      <td>...</td>\n",
       "      <td>10</td>\n",
       "      <td>3</td>\n",
       "      <td>0</td>\n",
       "      <td>0</td>\n",
       "      <td>0</td>\n",
       "      <td>0</td>\n",
       "      <td>0</td>\n",
       "      <td>0</td>\n",
       "      <td>0</td>\n",
       "      <td>IND</td>\n",
       "    </tr>\n",
       "    <tr>\n",
       "      <th>2239</th>\n",
       "      <td>4070</td>\n",
       "      <td>1969</td>\n",
       "      <td>PhD</td>\n",
       "      <td>Married</td>\n",
       "      <td>$94,871.00</td>\n",
       "      <td>0</td>\n",
       "      <td>2</td>\n",
       "      <td>9/1/12</td>\n",
       "      <td>99</td>\n",
       "      <td>169</td>\n",
       "      <td>...</td>\n",
       "      <td>4</td>\n",
       "      <td>7</td>\n",
       "      <td>0</td>\n",
       "      <td>1</td>\n",
       "      <td>1</td>\n",
       "      <td>0</td>\n",
       "      <td>0</td>\n",
       "      <td>1</td>\n",
       "      <td>0</td>\n",
       "      <td>CA</td>\n",
       "    </tr>\n",
       "  </tbody>\n",
       "</table>\n",
       "<p>2240 rows × 28 columns</p>\n",
       "</div>"
      ],
      "text/plain": [
       "         ID  Year_Birth   Education Marital_Status      Income   Kidhome  \\\n",
       "0      1826        1970  Graduation       Divorced  $84,835.00         0   \n",
       "1         1        1961  Graduation         Single  $57,091.00         0   \n",
       "2     10476        1958  Graduation        Married  $67,267.00         0   \n",
       "3      1386        1967  Graduation       Together  $32,474.00         1   \n",
       "4      5371        1989  Graduation         Single  $21,474.00         1   \n",
       "...     ...         ...         ...            ...          ...      ...   \n",
       "2235  10142        1976         PhD       Divorced  $66,476.00         0   \n",
       "2236   5263        1977    2n Cycle        Married  $31,056.00         1   \n",
       "2237     22        1976  Graduation       Divorced  $46,310.00         1   \n",
       "2238    528        1978  Graduation        Married  $65,819.00         0   \n",
       "2239   4070        1969         PhD        Married  $94,871.00         0   \n",
       "\n",
       "      Teenhome Dt_Customer  Recency  MntWines  ...  NumStorePurchases  \\\n",
       "0            0     6/16/14        0       189  ...                  6   \n",
       "1            0     6/15/14        0       464  ...                  7   \n",
       "2            1     5/13/14        0       134  ...                  5   \n",
       "3            1     5/11/14        0        10  ...                  2   \n",
       "4            0      4/8/14        0         6  ...                  2   \n",
       "...        ...         ...      ...       ...  ...                ...   \n",
       "2235         1      3/7/13       99       372  ...                 11   \n",
       "2236         0     1/22/13       99         5  ...                  3   \n",
       "2237         0     12/3/12       99       185  ...                  5   \n",
       "2238         0    11/29/12       99       267  ...                 10   \n",
       "2239         2      9/1/12       99       169  ...                  4   \n",
       "\n",
       "      NumWebVisitsMonth  AcceptedCmp3  AcceptedCmp4  AcceptedCmp5  \\\n",
       "0                     1             0             0             0   \n",
       "1                     5             0             0             0   \n",
       "2                     2             0             0             0   \n",
       "3                     7             0             0             0   \n",
       "4                     7             1             0             0   \n",
       "...                 ...           ...           ...           ...   \n",
       "2235                  4             0             0             0   \n",
       "2236                  8             0             0             0   \n",
       "2237                  8             0             0             0   \n",
       "2238                  3             0             0             0   \n",
       "2239                  7             0             1             1   \n",
       "\n",
       "      AcceptedCmp1  AcceptedCmp2  Response  Complain  Country  \n",
       "0                0             0         1         0       SP  \n",
       "1                0             1         1         0       CA  \n",
       "2                0             0         0         0       US  \n",
       "3                0             0         0         0      AUS  \n",
       "4                0             0         1         0       SP  \n",
       "...            ...           ...       ...       ...      ...  \n",
       "2235             0             0         0         0       US  \n",
       "2236             0             0         0         0       SP  \n",
       "2237             0             0         0         0       SP  \n",
       "2238             0             0         0         0      IND  \n",
       "2239             0             0         1         0       CA  \n",
       "\n",
       "[2240 rows x 28 columns]"
      ]
     },
     "execution_count": 7,
     "metadata": {},
     "output_type": "execute_result"
    }
   ],
   "source": [
    "df = pd.read_csv(\"Customer Personality Analysis.csv\")\n",
    "df"
   ]
  },
  {
   "cell_type": "markdown",
   "id": "34e3858b",
   "metadata": {},
   "source": [
    "### Exploratory Data Analysis"
   ]
  },
  {
   "cell_type": "code",
   "execution_count": 8,
   "id": "50ebef6f",
   "metadata": {},
   "outputs": [
    {
     "data": {
      "text/html": [
       "<div>\n",
       "<style scoped>\n",
       "    .dataframe tbody tr th:only-of-type {\n",
       "        vertical-align: middle;\n",
       "    }\n",
       "\n",
       "    .dataframe tbody tr th {\n",
       "        vertical-align: top;\n",
       "    }\n",
       "\n",
       "    .dataframe thead th {\n",
       "        text-align: right;\n",
       "    }\n",
       "</style>\n",
       "<table border=\"1\" class=\"dataframe\">\n",
       "  <thead>\n",
       "    <tr style=\"text-align: right;\">\n",
       "      <th></th>\n",
       "      <th>ID</th>\n",
       "      <th>Year_Birth</th>\n",
       "      <th>Education</th>\n",
       "      <th>Marital_Status</th>\n",
       "      <th>Income</th>\n",
       "      <th>Kidhome</th>\n",
       "      <th>Teenhome</th>\n",
       "      <th>Dt_Customer</th>\n",
       "      <th>Recency</th>\n",
       "      <th>MntWines</th>\n",
       "      <th>...</th>\n",
       "      <th>NumStorePurchases</th>\n",
       "      <th>NumWebVisitsMonth</th>\n",
       "      <th>AcceptedCmp3</th>\n",
       "      <th>AcceptedCmp4</th>\n",
       "      <th>AcceptedCmp5</th>\n",
       "      <th>AcceptedCmp1</th>\n",
       "      <th>AcceptedCmp2</th>\n",
       "      <th>Response</th>\n",
       "      <th>Complain</th>\n",
       "      <th>Country</th>\n",
       "    </tr>\n",
       "  </thead>\n",
       "  <tbody>\n",
       "    <tr>\n",
       "      <th>0</th>\n",
       "      <td>1826</td>\n",
       "      <td>1970</td>\n",
       "      <td>Graduation</td>\n",
       "      <td>Divorced</td>\n",
       "      <td>$84,835.00</td>\n",
       "      <td>0</td>\n",
       "      <td>0</td>\n",
       "      <td>6/16/14</td>\n",
       "      <td>0</td>\n",
       "      <td>189</td>\n",
       "      <td>...</td>\n",
       "      <td>6</td>\n",
       "      <td>1</td>\n",
       "      <td>0</td>\n",
       "      <td>0</td>\n",
       "      <td>0</td>\n",
       "      <td>0</td>\n",
       "      <td>0</td>\n",
       "      <td>1</td>\n",
       "      <td>0</td>\n",
       "      <td>SP</td>\n",
       "    </tr>\n",
       "    <tr>\n",
       "      <th>1</th>\n",
       "      <td>1</td>\n",
       "      <td>1961</td>\n",
       "      <td>Graduation</td>\n",
       "      <td>Single</td>\n",
       "      <td>$57,091.00</td>\n",
       "      <td>0</td>\n",
       "      <td>0</td>\n",
       "      <td>6/15/14</td>\n",
       "      <td>0</td>\n",
       "      <td>464</td>\n",
       "      <td>...</td>\n",
       "      <td>7</td>\n",
       "      <td>5</td>\n",
       "      <td>0</td>\n",
       "      <td>0</td>\n",
       "      <td>0</td>\n",
       "      <td>0</td>\n",
       "      <td>1</td>\n",
       "      <td>1</td>\n",
       "      <td>0</td>\n",
       "      <td>CA</td>\n",
       "    </tr>\n",
       "    <tr>\n",
       "      <th>2</th>\n",
       "      <td>10476</td>\n",
       "      <td>1958</td>\n",
       "      <td>Graduation</td>\n",
       "      <td>Married</td>\n",
       "      <td>$67,267.00</td>\n",
       "      <td>0</td>\n",
       "      <td>1</td>\n",
       "      <td>5/13/14</td>\n",
       "      <td>0</td>\n",
       "      <td>134</td>\n",
       "      <td>...</td>\n",
       "      <td>5</td>\n",
       "      <td>2</td>\n",
       "      <td>0</td>\n",
       "      <td>0</td>\n",
       "      <td>0</td>\n",
       "      <td>0</td>\n",
       "      <td>0</td>\n",
       "      <td>0</td>\n",
       "      <td>0</td>\n",
       "      <td>US</td>\n",
       "    </tr>\n",
       "    <tr>\n",
       "      <th>3</th>\n",
       "      <td>1386</td>\n",
       "      <td>1967</td>\n",
       "      <td>Graduation</td>\n",
       "      <td>Together</td>\n",
       "      <td>$32,474.00</td>\n",
       "      <td>1</td>\n",
       "      <td>1</td>\n",
       "      <td>5/11/14</td>\n",
       "      <td>0</td>\n",
       "      <td>10</td>\n",
       "      <td>...</td>\n",
       "      <td>2</td>\n",
       "      <td>7</td>\n",
       "      <td>0</td>\n",
       "      <td>0</td>\n",
       "      <td>0</td>\n",
       "      <td>0</td>\n",
       "      <td>0</td>\n",
       "      <td>0</td>\n",
       "      <td>0</td>\n",
       "      <td>AUS</td>\n",
       "    </tr>\n",
       "    <tr>\n",
       "      <th>4</th>\n",
       "      <td>5371</td>\n",
       "      <td>1989</td>\n",
       "      <td>Graduation</td>\n",
       "      <td>Single</td>\n",
       "      <td>$21,474.00</td>\n",
       "      <td>1</td>\n",
       "      <td>0</td>\n",
       "      <td>4/8/14</td>\n",
       "      <td>0</td>\n",
       "      <td>6</td>\n",
       "      <td>...</td>\n",
       "      <td>2</td>\n",
       "      <td>7</td>\n",
       "      <td>1</td>\n",
       "      <td>0</td>\n",
       "      <td>0</td>\n",
       "      <td>0</td>\n",
       "      <td>0</td>\n",
       "      <td>1</td>\n",
       "      <td>0</td>\n",
       "      <td>SP</td>\n",
       "    </tr>\n",
       "  </tbody>\n",
       "</table>\n",
       "<p>5 rows × 28 columns</p>\n",
       "</div>"
      ],
      "text/plain": [
       "      ID  Year_Birth   Education Marital_Status      Income   Kidhome  \\\n",
       "0   1826        1970  Graduation       Divorced  $84,835.00         0   \n",
       "1      1        1961  Graduation         Single  $57,091.00         0   \n",
       "2  10476        1958  Graduation        Married  $67,267.00         0   \n",
       "3   1386        1967  Graduation       Together  $32,474.00         1   \n",
       "4   5371        1989  Graduation         Single  $21,474.00         1   \n",
       "\n",
       "   Teenhome Dt_Customer  Recency  MntWines  ...  NumStorePurchases  \\\n",
       "0         0     6/16/14        0       189  ...                  6   \n",
       "1         0     6/15/14        0       464  ...                  7   \n",
       "2         1     5/13/14        0       134  ...                  5   \n",
       "3         1     5/11/14        0        10  ...                  2   \n",
       "4         0      4/8/14        0         6  ...                  2   \n",
       "\n",
       "   NumWebVisitsMonth  AcceptedCmp3  AcceptedCmp4  AcceptedCmp5  AcceptedCmp1  \\\n",
       "0                  1             0             0             0             0   \n",
       "1                  5             0             0             0             0   \n",
       "2                  2             0             0             0             0   \n",
       "3                  7             0             0             0             0   \n",
       "4                  7             1             0             0             0   \n",
       "\n",
       "   AcceptedCmp2  Response  Complain  Country  \n",
       "0             0         1         0       SP  \n",
       "1             1         1         0       CA  \n",
       "2             0         0         0       US  \n",
       "3             0         0         0      AUS  \n",
       "4             0         1         0       SP  \n",
       "\n",
       "[5 rows x 28 columns]"
      ]
     },
     "execution_count": 8,
     "metadata": {},
     "output_type": "execute_result"
    }
   ],
   "source": [
    "df.head()"
   ]
  },
  {
   "cell_type": "code",
   "execution_count": 9,
   "id": "e35b15b0",
   "metadata": {},
   "outputs": [
    {
     "data": {
      "text/html": [
       "<div>\n",
       "<style scoped>\n",
       "    .dataframe tbody tr th:only-of-type {\n",
       "        vertical-align: middle;\n",
       "    }\n",
       "\n",
       "    .dataframe tbody tr th {\n",
       "        vertical-align: top;\n",
       "    }\n",
       "\n",
       "    .dataframe thead th {\n",
       "        text-align: right;\n",
       "    }\n",
       "</style>\n",
       "<table border=\"1\" class=\"dataframe\">\n",
       "  <thead>\n",
       "    <tr style=\"text-align: right;\">\n",
       "      <th></th>\n",
       "      <th>ID</th>\n",
       "      <th>Year_Birth</th>\n",
       "      <th>Education</th>\n",
       "      <th>Marital_Status</th>\n",
       "      <th>Income</th>\n",
       "      <th>Kidhome</th>\n",
       "      <th>Teenhome</th>\n",
       "      <th>Dt_Customer</th>\n",
       "      <th>Recency</th>\n",
       "      <th>MntWines</th>\n",
       "      <th>...</th>\n",
       "      <th>NumStorePurchases</th>\n",
       "      <th>NumWebVisitsMonth</th>\n",
       "      <th>AcceptedCmp3</th>\n",
       "      <th>AcceptedCmp4</th>\n",
       "      <th>AcceptedCmp5</th>\n",
       "      <th>AcceptedCmp1</th>\n",
       "      <th>AcceptedCmp2</th>\n",
       "      <th>Response</th>\n",
       "      <th>Complain</th>\n",
       "      <th>Country</th>\n",
       "    </tr>\n",
       "  </thead>\n",
       "  <tbody>\n",
       "    <tr>\n",
       "      <th>2235</th>\n",
       "      <td>10142</td>\n",
       "      <td>1976</td>\n",
       "      <td>PhD</td>\n",
       "      <td>Divorced</td>\n",
       "      <td>$66,476.00</td>\n",
       "      <td>0</td>\n",
       "      <td>1</td>\n",
       "      <td>3/7/13</td>\n",
       "      <td>99</td>\n",
       "      <td>372</td>\n",
       "      <td>...</td>\n",
       "      <td>11</td>\n",
       "      <td>4</td>\n",
       "      <td>0</td>\n",
       "      <td>0</td>\n",
       "      <td>0</td>\n",
       "      <td>0</td>\n",
       "      <td>0</td>\n",
       "      <td>0</td>\n",
       "      <td>0</td>\n",
       "      <td>US</td>\n",
       "    </tr>\n",
       "    <tr>\n",
       "      <th>2236</th>\n",
       "      <td>5263</td>\n",
       "      <td>1977</td>\n",
       "      <td>2n Cycle</td>\n",
       "      <td>Married</td>\n",
       "      <td>$31,056.00</td>\n",
       "      <td>1</td>\n",
       "      <td>0</td>\n",
       "      <td>1/22/13</td>\n",
       "      <td>99</td>\n",
       "      <td>5</td>\n",
       "      <td>...</td>\n",
       "      <td>3</td>\n",
       "      <td>8</td>\n",
       "      <td>0</td>\n",
       "      <td>0</td>\n",
       "      <td>0</td>\n",
       "      <td>0</td>\n",
       "      <td>0</td>\n",
       "      <td>0</td>\n",
       "      <td>0</td>\n",
       "      <td>SP</td>\n",
       "    </tr>\n",
       "    <tr>\n",
       "      <th>2237</th>\n",
       "      <td>22</td>\n",
       "      <td>1976</td>\n",
       "      <td>Graduation</td>\n",
       "      <td>Divorced</td>\n",
       "      <td>$46,310.00</td>\n",
       "      <td>1</td>\n",
       "      <td>0</td>\n",
       "      <td>12/3/12</td>\n",
       "      <td>99</td>\n",
       "      <td>185</td>\n",
       "      <td>...</td>\n",
       "      <td>5</td>\n",
       "      <td>8</td>\n",
       "      <td>0</td>\n",
       "      <td>0</td>\n",
       "      <td>0</td>\n",
       "      <td>0</td>\n",
       "      <td>0</td>\n",
       "      <td>0</td>\n",
       "      <td>0</td>\n",
       "      <td>SP</td>\n",
       "    </tr>\n",
       "    <tr>\n",
       "      <th>2238</th>\n",
       "      <td>528</td>\n",
       "      <td>1978</td>\n",
       "      <td>Graduation</td>\n",
       "      <td>Married</td>\n",
       "      <td>$65,819.00</td>\n",
       "      <td>0</td>\n",
       "      <td>0</td>\n",
       "      <td>11/29/12</td>\n",
       "      <td>99</td>\n",
       "      <td>267</td>\n",
       "      <td>...</td>\n",
       "      <td>10</td>\n",
       "      <td>3</td>\n",
       "      <td>0</td>\n",
       "      <td>0</td>\n",
       "      <td>0</td>\n",
       "      <td>0</td>\n",
       "      <td>0</td>\n",
       "      <td>0</td>\n",
       "      <td>0</td>\n",
       "      <td>IND</td>\n",
       "    </tr>\n",
       "    <tr>\n",
       "      <th>2239</th>\n",
       "      <td>4070</td>\n",
       "      <td>1969</td>\n",
       "      <td>PhD</td>\n",
       "      <td>Married</td>\n",
       "      <td>$94,871.00</td>\n",
       "      <td>0</td>\n",
       "      <td>2</td>\n",
       "      <td>9/1/12</td>\n",
       "      <td>99</td>\n",
       "      <td>169</td>\n",
       "      <td>...</td>\n",
       "      <td>4</td>\n",
       "      <td>7</td>\n",
       "      <td>0</td>\n",
       "      <td>1</td>\n",
       "      <td>1</td>\n",
       "      <td>0</td>\n",
       "      <td>0</td>\n",
       "      <td>1</td>\n",
       "      <td>0</td>\n",
       "      <td>CA</td>\n",
       "    </tr>\n",
       "  </tbody>\n",
       "</table>\n",
       "<p>5 rows × 28 columns</p>\n",
       "</div>"
      ],
      "text/plain": [
       "         ID  Year_Birth   Education Marital_Status      Income   Kidhome  \\\n",
       "2235  10142        1976         PhD       Divorced  $66,476.00         0   \n",
       "2236   5263        1977    2n Cycle        Married  $31,056.00         1   \n",
       "2237     22        1976  Graduation       Divorced  $46,310.00         1   \n",
       "2238    528        1978  Graduation        Married  $65,819.00         0   \n",
       "2239   4070        1969         PhD        Married  $94,871.00         0   \n",
       "\n",
       "      Teenhome Dt_Customer  Recency  MntWines  ...  NumStorePurchases  \\\n",
       "2235         1      3/7/13       99       372  ...                 11   \n",
       "2236         0     1/22/13       99         5  ...                  3   \n",
       "2237         0     12/3/12       99       185  ...                  5   \n",
       "2238         0    11/29/12       99       267  ...                 10   \n",
       "2239         2      9/1/12       99       169  ...                  4   \n",
       "\n",
       "      NumWebVisitsMonth  AcceptedCmp3  AcceptedCmp4  AcceptedCmp5  \\\n",
       "2235                  4             0             0             0   \n",
       "2236                  8             0             0             0   \n",
       "2237                  8             0             0             0   \n",
       "2238                  3             0             0             0   \n",
       "2239                  7             0             1             1   \n",
       "\n",
       "      AcceptedCmp1  AcceptedCmp2  Response  Complain  Country  \n",
       "2235             0             0         0         0       US  \n",
       "2236             0             0         0         0       SP  \n",
       "2237             0             0         0         0       SP  \n",
       "2238             0             0         0         0      IND  \n",
       "2239             0             0         1         0       CA  \n",
       "\n",
       "[5 rows x 28 columns]"
      ]
     },
     "execution_count": 9,
     "metadata": {},
     "output_type": "execute_result"
    }
   ],
   "source": [
    "df.tail()"
   ]
  },
  {
   "cell_type": "code",
   "execution_count": 10,
   "id": "a462b1f6",
   "metadata": {},
   "outputs": [
    {
     "data": {
      "text/plain": [
       "(2240, 28)"
      ]
     },
     "execution_count": 10,
     "metadata": {},
     "output_type": "execute_result"
    }
   ],
   "source": [
    "df.shape"
   ]
  },
  {
   "cell_type": "code",
   "execution_count": 11,
   "id": "9c25e274",
   "metadata": {},
   "outputs": [
    {
     "data": {
      "text/plain": [
       "Index(['ID', 'Year_Birth', 'Education', 'Marital_Status', ' Income ',\n",
       "       'Kidhome', 'Teenhome', 'Dt_Customer', 'Recency', 'MntWines',\n",
       "       'MntFruits', 'MntMeatProducts', 'MntFishProducts', 'MntSweetProducts',\n",
       "       'MntGoldProds', 'NumDealsPurchases', 'NumWebPurchases',\n",
       "       'NumCatalogPurchases', 'NumStorePurchases', 'NumWebVisitsMonth',\n",
       "       'AcceptedCmp3', 'AcceptedCmp4', 'AcceptedCmp5', 'AcceptedCmp1',\n",
       "       'AcceptedCmp2', 'Response', 'Complain', 'Country'],\n",
       "      dtype='object')"
      ]
     },
     "execution_count": 11,
     "metadata": {},
     "output_type": "execute_result"
    }
   ],
   "source": [
    "df.columns"
   ]
  },
  {
   "cell_type": "code",
   "execution_count": 12,
   "id": "53ebf9dd",
   "metadata": {},
   "outputs": [
    {
     "data": {
      "text/plain": [
       "<bound method NDFrame.describe of          ID  Year_Birth   Education Marital_Status      Income   Kidhome  \\\n",
       "0      1826        1970  Graduation       Divorced  $84,835.00         0   \n",
       "1         1        1961  Graduation         Single  $57,091.00         0   \n",
       "2     10476        1958  Graduation        Married  $67,267.00         0   \n",
       "3      1386        1967  Graduation       Together  $32,474.00         1   \n",
       "4      5371        1989  Graduation         Single  $21,474.00         1   \n",
       "...     ...         ...         ...            ...          ...      ...   \n",
       "2235  10142        1976         PhD       Divorced  $66,476.00         0   \n",
       "2236   5263        1977    2n Cycle        Married  $31,056.00         1   \n",
       "2237     22        1976  Graduation       Divorced  $46,310.00         1   \n",
       "2238    528        1978  Graduation        Married  $65,819.00         0   \n",
       "2239   4070        1969         PhD        Married  $94,871.00         0   \n",
       "\n",
       "      Teenhome Dt_Customer  Recency  MntWines  ...  NumStorePurchases  \\\n",
       "0            0     6/16/14        0       189  ...                  6   \n",
       "1            0     6/15/14        0       464  ...                  7   \n",
       "2            1     5/13/14        0       134  ...                  5   \n",
       "3            1     5/11/14        0        10  ...                  2   \n",
       "4            0      4/8/14        0         6  ...                  2   \n",
       "...        ...         ...      ...       ...  ...                ...   \n",
       "2235         1      3/7/13       99       372  ...                 11   \n",
       "2236         0     1/22/13       99         5  ...                  3   \n",
       "2237         0     12/3/12       99       185  ...                  5   \n",
       "2238         0    11/29/12       99       267  ...                 10   \n",
       "2239         2      9/1/12       99       169  ...                  4   \n",
       "\n",
       "      NumWebVisitsMonth  AcceptedCmp3  AcceptedCmp4  AcceptedCmp5  \\\n",
       "0                     1             0             0             0   \n",
       "1                     5             0             0             0   \n",
       "2                     2             0             0             0   \n",
       "3                     7             0             0             0   \n",
       "4                     7             1             0             0   \n",
       "...                 ...           ...           ...           ...   \n",
       "2235                  4             0             0             0   \n",
       "2236                  8             0             0             0   \n",
       "2237                  8             0             0             0   \n",
       "2238                  3             0             0             0   \n",
       "2239                  7             0             1             1   \n",
       "\n",
       "      AcceptedCmp1  AcceptedCmp2  Response  Complain  Country  \n",
       "0                0             0         1         0       SP  \n",
       "1                0             1         1         0       CA  \n",
       "2                0             0         0         0       US  \n",
       "3                0             0         0         0      AUS  \n",
       "4                0             0         1         0       SP  \n",
       "...            ...           ...       ...       ...      ...  \n",
       "2235             0             0         0         0       US  \n",
       "2236             0             0         0         0       SP  \n",
       "2237             0             0         0         0       SP  \n",
       "2238             0             0         0         0      IND  \n",
       "2239             0             0         1         0       CA  \n",
       "\n",
       "[2240 rows x 28 columns]>"
      ]
     },
     "execution_count": 12,
     "metadata": {},
     "output_type": "execute_result"
    }
   ],
   "source": [
    "df.describe"
   ]
  },
  {
   "cell_type": "markdown",
   "id": "6269c79b",
   "metadata": {},
   "source": [
    "### Renaming the columns"
   ]
  },
  {
   "cell_type": "code",
   "execution_count": 13,
   "id": "0b9289e7",
   "metadata": {},
   "outputs": [
    {
     "data": {
      "text/plain": [
       "Index(['ID', 'Year_Birth', 'Education', 'Marital_Status', 'Income', 'Kidhome',\n",
       "       'Teenhome', 'Dt_Customer', 'Recency', 'MntWines', 'MntFruits',\n",
       "       'MntMeatProducts', 'MntFishProducts', 'MntSweetProducts',\n",
       "       'MntGoldProds', 'NumDealsPurchases', 'NumWebPurchases',\n",
       "       'NumCatalogPurchases', 'NumStorePurchases', 'NumWebVisitsMonth',\n",
       "       'AcceptedCmp3', 'AcceptedCmp4', 'AcceptedCmp5', 'AcceptedCmp1',\n",
       "       'AcceptedCmp2', 'Response', 'Complain', 'Country'],\n",
       "      dtype='object')"
      ]
     },
     "execution_count": 13,
     "metadata": {},
     "output_type": "execute_result"
    }
   ],
   "source": [
    "df.columns = df.columns.str.strip()\n",
    "\n",
    "df.columns"
   ]
  },
  {
   "cell_type": "code",
   "execution_count": 14,
   "id": "6dc6462d",
   "metadata": {},
   "outputs": [],
   "source": [
    "df['Income'] = df['Income'].str.strip().str.replace(\"$\",'').str.replace(\",\",'')"
   ]
  },
  {
   "cell_type": "markdown",
   "id": "ee9ca690",
   "metadata": {},
   "source": [
    "### Changing Data Types"
   ]
  },
  {
   "cell_type": "code",
   "execution_count": 15,
   "id": "fdb1cbd9",
   "metadata": {},
   "outputs": [],
   "source": [
    "df['Income'] = df['Income'].astype('float')"
   ]
  },
  {
   "cell_type": "code",
   "execution_count": 16,
   "id": "bd79559d",
   "metadata": {},
   "outputs": [],
   "source": [
    "df['Dt_Customer'] = pd.to_datetime(df[\"Dt_Customer\"])"
   ]
  },
  {
   "cell_type": "code",
   "execution_count": 17,
   "id": "075ffc8f",
   "metadata": {},
   "outputs": [
    {
     "name": "stdout",
     "output_type": "stream",
     "text": [
      "<class 'pandas.core.frame.DataFrame'>\n",
      "RangeIndex: 2240 entries, 0 to 2239\n",
      "Data columns (total 28 columns):\n",
      " #   Column               Non-Null Count  Dtype         \n",
      "---  ------               --------------  -----         \n",
      " 0   ID                   2240 non-null   int64         \n",
      " 1   Year_Birth           2240 non-null   int64         \n",
      " 2   Education            2240 non-null   object        \n",
      " 3   Marital_Status       2240 non-null   object        \n",
      " 4   Income               2216 non-null   float64       \n",
      " 5   Kidhome              2240 non-null   int64         \n",
      " 6   Teenhome             2240 non-null   int64         \n",
      " 7   Dt_Customer          2240 non-null   datetime64[ns]\n",
      " 8   Recency              2240 non-null   int64         \n",
      " 9   MntWines             2240 non-null   int64         \n",
      " 10  MntFruits            2240 non-null   int64         \n",
      " 11  MntMeatProducts      2240 non-null   int64         \n",
      " 12  MntFishProducts      2240 non-null   int64         \n",
      " 13  MntSweetProducts     2240 non-null   int64         \n",
      " 14  MntGoldProds         2240 non-null   int64         \n",
      " 15  NumDealsPurchases    2240 non-null   int64         \n",
      " 16  NumWebPurchases      2240 non-null   int64         \n",
      " 17  NumCatalogPurchases  2240 non-null   int64         \n",
      " 18  NumStorePurchases    2240 non-null   int64         \n",
      " 19  NumWebVisitsMonth    2240 non-null   int64         \n",
      " 20  AcceptedCmp3         2240 non-null   int64         \n",
      " 21  AcceptedCmp4         2240 non-null   int64         \n",
      " 22  AcceptedCmp5         2240 non-null   int64         \n",
      " 23  AcceptedCmp1         2240 non-null   int64         \n",
      " 24  AcceptedCmp2         2240 non-null   int64         \n",
      " 25  Response             2240 non-null   int64         \n",
      " 26  Complain             2240 non-null   int64         \n",
      " 27  Country              2240 non-null   object        \n",
      "dtypes: datetime64[ns](1), float64(1), int64(23), object(3)\n",
      "memory usage: 490.1+ KB\n"
     ]
    }
   ],
   "source": [
    "df.info()"
   ]
  },
  {
   "cell_type": "code",
   "execution_count": 18,
   "id": "aeb04321",
   "metadata": {},
   "outputs": [
    {
     "data": {
      "text/html": [
       "<div>\n",
       "<style scoped>\n",
       "    .dataframe tbody tr th:only-of-type {\n",
       "        vertical-align: middle;\n",
       "    }\n",
       "\n",
       "    .dataframe tbody tr th {\n",
       "        vertical-align: top;\n",
       "    }\n",
       "\n",
       "    .dataframe thead th {\n",
       "        text-align: right;\n",
       "    }\n",
       "</style>\n",
       "<table border=\"1\" class=\"dataframe\">\n",
       "  <thead>\n",
       "    <tr style=\"text-align: right;\">\n",
       "      <th></th>\n",
       "      <th>ID</th>\n",
       "      <th>Year_Birth</th>\n",
       "      <th>Education</th>\n",
       "      <th>Marital_Status</th>\n",
       "      <th>Income</th>\n",
       "      <th>Kidhome</th>\n",
       "      <th>Teenhome</th>\n",
       "      <th>Dt_Customer</th>\n",
       "      <th>Recency</th>\n",
       "      <th>MntWines</th>\n",
       "      <th>...</th>\n",
       "      <th>NumStorePurchases</th>\n",
       "      <th>NumWebVisitsMonth</th>\n",
       "      <th>AcceptedCmp3</th>\n",
       "      <th>AcceptedCmp4</th>\n",
       "      <th>AcceptedCmp5</th>\n",
       "      <th>AcceptedCmp1</th>\n",
       "      <th>AcceptedCmp2</th>\n",
       "      <th>Response</th>\n",
       "      <th>Complain</th>\n",
       "      <th>Country</th>\n",
       "    </tr>\n",
       "  </thead>\n",
       "  <tbody>\n",
       "    <tr>\n",
       "      <th>0</th>\n",
       "      <td>1826</td>\n",
       "      <td>1970</td>\n",
       "      <td>Graduation</td>\n",
       "      <td>Divorced</td>\n",
       "      <td>84835.0</td>\n",
       "      <td>0</td>\n",
       "      <td>0</td>\n",
       "      <td>2014-06-16</td>\n",
       "      <td>0</td>\n",
       "      <td>189</td>\n",
       "      <td>...</td>\n",
       "      <td>6</td>\n",
       "      <td>1</td>\n",
       "      <td>0</td>\n",
       "      <td>0</td>\n",
       "      <td>0</td>\n",
       "      <td>0</td>\n",
       "      <td>0</td>\n",
       "      <td>1</td>\n",
       "      <td>0</td>\n",
       "      <td>SP</td>\n",
       "    </tr>\n",
       "    <tr>\n",
       "      <th>1</th>\n",
       "      <td>1</td>\n",
       "      <td>1961</td>\n",
       "      <td>Graduation</td>\n",
       "      <td>Single</td>\n",
       "      <td>57091.0</td>\n",
       "      <td>0</td>\n",
       "      <td>0</td>\n",
       "      <td>2014-06-15</td>\n",
       "      <td>0</td>\n",
       "      <td>464</td>\n",
       "      <td>...</td>\n",
       "      <td>7</td>\n",
       "      <td>5</td>\n",
       "      <td>0</td>\n",
       "      <td>0</td>\n",
       "      <td>0</td>\n",
       "      <td>0</td>\n",
       "      <td>1</td>\n",
       "      <td>1</td>\n",
       "      <td>0</td>\n",
       "      <td>CA</td>\n",
       "    </tr>\n",
       "    <tr>\n",
       "      <th>2</th>\n",
       "      <td>10476</td>\n",
       "      <td>1958</td>\n",
       "      <td>Graduation</td>\n",
       "      <td>Married</td>\n",
       "      <td>67267.0</td>\n",
       "      <td>0</td>\n",
       "      <td>1</td>\n",
       "      <td>2014-05-13</td>\n",
       "      <td>0</td>\n",
       "      <td>134</td>\n",
       "      <td>...</td>\n",
       "      <td>5</td>\n",
       "      <td>2</td>\n",
       "      <td>0</td>\n",
       "      <td>0</td>\n",
       "      <td>0</td>\n",
       "      <td>0</td>\n",
       "      <td>0</td>\n",
       "      <td>0</td>\n",
       "      <td>0</td>\n",
       "      <td>US</td>\n",
       "    </tr>\n",
       "    <tr>\n",
       "      <th>3</th>\n",
       "      <td>1386</td>\n",
       "      <td>1967</td>\n",
       "      <td>Graduation</td>\n",
       "      <td>Together</td>\n",
       "      <td>32474.0</td>\n",
       "      <td>1</td>\n",
       "      <td>1</td>\n",
       "      <td>2014-05-11</td>\n",
       "      <td>0</td>\n",
       "      <td>10</td>\n",
       "      <td>...</td>\n",
       "      <td>2</td>\n",
       "      <td>7</td>\n",
       "      <td>0</td>\n",
       "      <td>0</td>\n",
       "      <td>0</td>\n",
       "      <td>0</td>\n",
       "      <td>0</td>\n",
       "      <td>0</td>\n",
       "      <td>0</td>\n",
       "      <td>AUS</td>\n",
       "    </tr>\n",
       "    <tr>\n",
       "      <th>4</th>\n",
       "      <td>5371</td>\n",
       "      <td>1989</td>\n",
       "      <td>Graduation</td>\n",
       "      <td>Single</td>\n",
       "      <td>21474.0</td>\n",
       "      <td>1</td>\n",
       "      <td>0</td>\n",
       "      <td>2014-04-08</td>\n",
       "      <td>0</td>\n",
       "      <td>6</td>\n",
       "      <td>...</td>\n",
       "      <td>2</td>\n",
       "      <td>7</td>\n",
       "      <td>1</td>\n",
       "      <td>0</td>\n",
       "      <td>0</td>\n",
       "      <td>0</td>\n",
       "      <td>0</td>\n",
       "      <td>1</td>\n",
       "      <td>0</td>\n",
       "      <td>SP</td>\n",
       "    </tr>\n",
       "  </tbody>\n",
       "</table>\n",
       "<p>5 rows × 28 columns</p>\n",
       "</div>"
      ],
      "text/plain": [
       "      ID  Year_Birth   Education Marital_Status   Income  Kidhome  Teenhome  \\\n",
       "0   1826        1970  Graduation       Divorced  84835.0        0         0   \n",
       "1      1        1961  Graduation         Single  57091.0        0         0   \n",
       "2  10476        1958  Graduation        Married  67267.0        0         1   \n",
       "3   1386        1967  Graduation       Together  32474.0        1         1   \n",
       "4   5371        1989  Graduation         Single  21474.0        1         0   \n",
       "\n",
       "  Dt_Customer  Recency  MntWines  ...  NumStorePurchases  NumWebVisitsMonth  \\\n",
       "0  2014-06-16        0       189  ...                  6                  1   \n",
       "1  2014-06-15        0       464  ...                  7                  5   \n",
       "2  2014-05-13        0       134  ...                  5                  2   \n",
       "3  2014-05-11        0        10  ...                  2                  7   \n",
       "4  2014-04-08        0         6  ...                  2                  7   \n",
       "\n",
       "   AcceptedCmp3  AcceptedCmp4  AcceptedCmp5  AcceptedCmp1  AcceptedCmp2  \\\n",
       "0             0             0             0             0             0   \n",
       "1             0             0             0             0             1   \n",
       "2             0             0             0             0             0   \n",
       "3             0             0             0             0             0   \n",
       "4             1             0             0             0             0   \n",
       "\n",
       "   Response  Complain  Country  \n",
       "0         1         0       SP  \n",
       "1         1         0       CA  \n",
       "2         0         0       US  \n",
       "3         0         0      AUS  \n",
       "4         1         0       SP  \n",
       "\n",
       "[5 rows x 28 columns]"
      ]
     },
     "execution_count": 18,
     "metadata": {},
     "output_type": "execute_result"
    }
   ],
   "source": [
    "df.head()"
   ]
  },
  {
   "cell_type": "markdown",
   "id": "a3625763",
   "metadata": {},
   "source": [
    "### Univariate Analysis - Statistical Non Visual Analysis"
   ]
  },
  {
   "cell_type": "code",
   "execution_count": 19,
   "id": "16a5304e",
   "metadata": {},
   "outputs": [],
   "source": [
    "discrete_df = df.select_dtypes(include=['object'])\n",
    "\n",
    "numerical_df = df.select_dtypes(include=['int64','float64'])"
   ]
  },
  {
   "cell_type": "code",
   "execution_count": 20,
   "id": "6f940238",
   "metadata": {},
   "outputs": [],
   "source": [
    "def discrete_univariate_analysis(discrete_data):\n",
    "    for col_name in discrete_data:\n",
    "        print(\".\"*10,col_name,\".\"*10)\n",
    "        print(discrete_data[col_name].agg(['count','unique','nunique']))\n",
    "        print(\"value_counts:\\n\",discrete_data[col_name].value_counts())\n",
    "        print()"
   ]
  },
  {
   "cell_type": "code",
   "execution_count": 21,
   "id": "b456f4ab",
   "metadata": {},
   "outputs": [
    {
     "name": "stdout",
     "output_type": "stream",
     "text": [
      ".......... Education ..........\n",
      "count                                            2240\n",
      "unique     [Graduation, PhD, 2n Cycle, Master, Basic]\n",
      "nunique                                             5\n",
      "Name: Education, dtype: object\n",
      "value_counts:\n",
      " Education\n",
      "Graduation    1127\n",
      "PhD            486\n",
      "Master         370\n",
      "2n Cycle       203\n",
      "Basic           54\n",
      "Name: count, dtype: int64\n",
      "\n",
      ".......... Marital_Status ..........\n",
      "count                                                   2240\n",
      "unique     [Divorced, Single, Married, Together, Widow, Y...\n",
      "nunique                                                    8\n",
      "Name: Marital_Status, dtype: object\n",
      "value_counts:\n",
      " Marital_Status\n",
      "Married     864\n",
      "Together    580\n",
      "Single      480\n",
      "Divorced    232\n",
      "Widow        77\n",
      "Alone         3\n",
      "YOLO          2\n",
      "Absurd        2\n",
      "Name: count, dtype: int64\n",
      "\n",
      ".......... Country ..........\n",
      "count                                     2240\n",
      "unique     [SP, CA, US, AUS, GER, IND, SA, ME]\n",
      "nunique                                      8\n",
      "Name: Country, dtype: object\n",
      "value_counts:\n",
      " Country\n",
      "SP     1095\n",
      "SA      337\n",
      "CA      268\n",
      "AUS     160\n",
      "IND     148\n",
      "GER     120\n",
      "US      109\n",
      "ME        3\n",
      "Name: count, dtype: int64\n",
      "\n"
     ]
    }
   ],
   "source": [
    "discrete_univariate_analysis(discrete_df)"
   ]
  },
  {
   "cell_type": "code",
   "execution_count": 22,
   "id": "9c7a433c",
   "metadata": {},
   "outputs": [],
   "source": [
    "def numerical_univariate_analysis(numerical_data):\n",
    "    for col_name in numerical_data:\n",
    "        print(\".\"*10,col_name,\".\"*10)\n",
    "        print(numerical_data[col_name].agg(['min','max','mean','median','std']))\n",
    "        print()"
   ]
  },
  {
   "cell_type": "code",
   "execution_count": 23,
   "id": "dc8dda62",
   "metadata": {},
   "outputs": [
    {
     "name": "stdout",
     "output_type": "stream",
     "text": [
      ".......... ID ..........\n",
      "min           0.000000\n",
      "max       11191.000000\n",
      "mean       5592.159821\n",
      "median     5458.500000\n",
      "std        3246.662198\n",
      "Name: ID, dtype: float64\n",
      "\n",
      ".......... Year_Birth ..........\n",
      "min       1893.000000\n",
      "max       1996.000000\n",
      "mean      1968.805804\n",
      "median    1970.000000\n",
      "std         11.984069\n",
      "Name: Year_Birth, dtype: float64\n",
      "\n",
      ".......... Income ..........\n",
      "min         1730.000000\n",
      "max       666666.000000\n",
      "mean       52247.251354\n",
      "median     51381.500000\n",
      "std        25173.076661\n",
      "Name: Income, dtype: float64\n",
      "\n",
      ".......... Kidhome ..........\n",
      "min       0.000000\n",
      "max       2.000000\n",
      "mean      0.444196\n",
      "median    0.000000\n",
      "std       0.538398\n",
      "Name: Kidhome, dtype: float64\n",
      "\n",
      ".......... Teenhome ..........\n",
      "min       0.000000\n",
      "max       2.000000\n",
      "mean      0.506250\n",
      "median    0.000000\n",
      "std       0.544538\n",
      "Name: Teenhome, dtype: float64\n",
      "\n",
      ".......... Recency ..........\n",
      "min        0.000000\n",
      "max       99.000000\n",
      "mean      49.109375\n",
      "median    49.000000\n",
      "std       28.962453\n",
      "Name: Recency, dtype: float64\n",
      "\n",
      ".......... MntWines ..........\n",
      "min          0.000000\n",
      "max       1493.000000\n",
      "mean       303.935714\n",
      "median     173.500000\n",
      "std        336.597393\n",
      "Name: MntWines, dtype: float64\n",
      "\n",
      ".......... MntFruits ..........\n",
      "min         0.000000\n",
      "max       199.000000\n",
      "mean       26.302232\n",
      "median      8.000000\n",
      "std        39.773434\n",
      "Name: MntFruits, dtype: float64\n",
      "\n",
      ".......... MntMeatProducts ..........\n",
      "min          0.000000\n",
      "max       1725.000000\n",
      "mean       166.950000\n",
      "median      67.000000\n",
      "std        225.715373\n",
      "Name: MntMeatProducts, dtype: float64\n",
      "\n",
      ".......... MntFishProducts ..........\n",
      "min         0.000000\n",
      "max       259.000000\n",
      "mean       37.525446\n",
      "median     12.000000\n",
      "std        54.628979\n",
      "Name: MntFishProducts, dtype: float64\n",
      "\n",
      ".......... MntSweetProducts ..........\n",
      "min         0.000000\n",
      "max       263.000000\n",
      "mean       27.062946\n",
      "median      8.000000\n",
      "std        41.280498\n",
      "Name: MntSweetProducts, dtype: float64\n",
      "\n",
      ".......... MntGoldProds ..........\n",
      "min         0.000000\n",
      "max       362.000000\n",
      "mean       44.021875\n",
      "median     24.000000\n",
      "std        52.167439\n",
      "Name: MntGoldProds, dtype: float64\n",
      "\n",
      ".......... NumDealsPurchases ..........\n",
      "min        0.000000\n",
      "max       15.000000\n",
      "mean       2.325000\n",
      "median     2.000000\n",
      "std        1.932238\n",
      "Name: NumDealsPurchases, dtype: float64\n",
      "\n",
      ".......... NumWebPurchases ..........\n",
      "min        0.000000\n",
      "max       27.000000\n",
      "mean       4.084821\n",
      "median     4.000000\n",
      "std        2.778714\n",
      "Name: NumWebPurchases, dtype: float64\n",
      "\n",
      ".......... NumCatalogPurchases ..........\n",
      "min        0.000000\n",
      "max       28.000000\n",
      "mean       2.662054\n",
      "median     2.000000\n",
      "std        2.923101\n",
      "Name: NumCatalogPurchases, dtype: float64\n",
      "\n",
      ".......... NumStorePurchases ..........\n",
      "min        0.000000\n",
      "max       13.000000\n",
      "mean       5.790179\n",
      "median     5.000000\n",
      "std        3.250958\n",
      "Name: NumStorePurchases, dtype: float64\n",
      "\n",
      ".......... NumWebVisitsMonth ..........\n",
      "min        0.000000\n",
      "max       20.000000\n",
      "mean       5.316518\n",
      "median     6.000000\n",
      "std        2.426645\n",
      "Name: NumWebVisitsMonth, dtype: float64\n",
      "\n",
      ".......... AcceptedCmp3 ..........\n",
      "min       0.000000\n",
      "max       1.000000\n",
      "mean      0.072768\n",
      "median    0.000000\n",
      "std       0.259813\n",
      "Name: AcceptedCmp3, dtype: float64\n",
      "\n",
      ".......... AcceptedCmp4 ..........\n",
      "min       0.000000\n",
      "max       1.000000\n",
      "mean      0.074554\n",
      "median    0.000000\n",
      "std       0.262728\n",
      "Name: AcceptedCmp4, dtype: float64\n",
      "\n",
      ".......... AcceptedCmp5 ..........\n",
      "min       0.000000\n",
      "max       1.000000\n",
      "mean      0.072768\n",
      "median    0.000000\n",
      "std       0.259813\n",
      "Name: AcceptedCmp5, dtype: float64\n",
      "\n",
      ".......... AcceptedCmp1 ..........\n",
      "min       0.000000\n",
      "max       1.000000\n",
      "mean      0.064286\n",
      "median    0.000000\n",
      "std       0.245316\n",
      "Name: AcceptedCmp1, dtype: float64\n",
      "\n",
      ".......... AcceptedCmp2 ..........\n",
      "min       0.000000\n",
      "max       1.000000\n",
      "mean      0.013393\n",
      "median    0.000000\n",
      "std       0.114976\n",
      "Name: AcceptedCmp2, dtype: float64\n",
      "\n",
      ".......... Response ..........\n",
      "min       0.000000\n",
      "max       1.000000\n",
      "mean      0.149107\n",
      "median    0.000000\n",
      "std       0.356274\n",
      "Name: Response, dtype: float64\n",
      "\n",
      ".......... Complain ..........\n",
      "min       0.000000\n",
      "max       1.000000\n",
      "mean      0.009375\n",
      "median    0.000000\n",
      "std       0.096391\n",
      "Name: Complain, dtype: float64\n",
      "\n"
     ]
    }
   ],
   "source": [
    "numerical_univariate_analysis(numerical_df)"
   ]
  },
  {
   "cell_type": "code",
   "execution_count": 24,
   "id": "987981d1",
   "metadata": {},
   "outputs": [
    {
     "data": {
      "text/plain": [
       "Index(['Education', 'Marital_Status', 'Country'], dtype='object')"
      ]
     },
     "execution_count": 24,
     "metadata": {},
     "output_type": "execute_result"
    }
   ],
   "source": [
    "discrete_df.columns"
   ]
  },
  {
   "cell_type": "code",
   "execution_count": 25,
   "id": "364fd43c",
   "metadata": {},
   "outputs": [
    {
     "data": {
      "text/plain": [
       "Index(['ID', 'Year_Birth', 'Income', 'Kidhome', 'Teenhome', 'Recency',\n",
       "       'MntWines', 'MntFruits', 'MntMeatProducts', 'MntFishProducts',\n",
       "       'MntSweetProducts', 'MntGoldProds', 'NumDealsPurchases',\n",
       "       'NumWebPurchases', 'NumCatalogPurchases', 'NumStorePurchases',\n",
       "       'NumWebVisitsMonth', 'AcceptedCmp3', 'AcceptedCmp4', 'AcceptedCmp5',\n",
       "       'AcceptedCmp1', 'AcceptedCmp2', 'Response', 'Complain'],\n",
       "      dtype='object')"
      ]
     },
     "execution_count": 25,
     "metadata": {},
     "output_type": "execute_result"
    }
   ],
   "source": [
    "numerical_df.columns"
   ]
  },
  {
   "cell_type": "code",
   "execution_count": 26,
   "id": "61fb606c",
   "metadata": {},
   "outputs": [
    {
     "name": "stdout",
     "output_type": "stream",
     "text": [
      "Shape: (2240, 8)\n",
      "Columns: Index(['Income', 'Recency', 'MntWines', 'MntFruits', 'MntMeatProducts',\n",
      "       'MntFishProducts', 'MntSweetProducts', 'MntGoldProds'],\n",
      "      dtype='object')\n"
     ]
    }
   ],
   "source": [
    "discrete_num_cols = ['ID', 'Year_Birth', 'Kidhome', 'Teenhome',\n",
    "                   'NumDealsPurchases', 'NumWebPurchases', 'NumCatalogPurchases', 'NumStorePurchases', 'NumWebVisitsMonth',\n",
    "                   'AcceptedCmp3', 'AcceptedCmp4', 'AcceptedCmp5', 'AcceptedCmp1', 'AcceptedCmp2',\n",
    "                   'Response', 'Complain']\n",
    "numerical_df.drop(columns=discrete_num_cols, axis=1, inplace=True)\n",
    "\n",
    "print('Shape:', numerical_df.shape)\n",
    "print('Columns:', numerical_df.columns)"
   ]
  },
  {
   "cell_type": "code",
   "execution_count": 27,
   "id": "5483513a",
   "metadata": {},
   "outputs": [
    {
     "data": {
      "text/plain": [
       "Index(['ID', 'Year_Birth', 'Kidhome', 'Teenhome', 'NumDealsPurchases',\n",
       "       'NumWebPurchases', 'NumCatalogPurchases', 'NumStorePurchases',\n",
       "       'NumWebVisitsMonth', 'AcceptedCmp3', 'AcceptedCmp4', 'AcceptedCmp5',\n",
       "       'AcceptedCmp1', 'AcceptedCmp2', 'Response', 'Complain'],\n",
       "      dtype='object')"
      ]
     },
     "execution_count": 27,
     "metadata": {},
     "output_type": "execute_result"
    }
   ],
   "source": [
    "discrete_num_df = df[discrete_num_cols]\n",
    "\n",
    "discrete_num_df.shape\n",
    "discrete_num_df.columns"
   ]
  },
  {
   "cell_type": "code",
   "execution_count": 28,
   "id": "75bf689a",
   "metadata": {},
   "outputs": [
    {
     "data": {
      "text/plain": [
       "Index(['Year_Birth', 'Kidhome', 'Teenhome', 'NumDealsPurchases',\n",
       "       'NumWebPurchases', 'NumCatalogPurchases', 'NumStorePurchases',\n",
       "       'NumWebVisitsMonth', 'AcceptedCmp3', 'AcceptedCmp4', 'AcceptedCmp5',\n",
       "       'AcceptedCmp1', 'AcceptedCmp2', 'Response', 'Complain'],\n",
       "      dtype='object')"
      ]
     },
     "execution_count": 28,
     "metadata": {},
     "output_type": "execute_result"
    }
   ],
   "source": [
    "discrete_num_df.drop(columns=['ID'],axis=1,inplace=True)\n",
    "\n",
    "discrete_num_df.columns"
   ]
  },
  {
   "cell_type": "code",
   "execution_count": 29,
   "id": "fcf8f100",
   "metadata": {},
   "outputs": [
    {
     "name": "stdout",
     "output_type": "stream",
     "text": [
      ".......... Education ..........\n",
      "count                                            2240\n",
      "unique     [Graduation, PhD, 2n Cycle, Master, Basic]\n",
      "nunique                                             5\n",
      "Name: Education, dtype: object\n",
      "value_counts:\n",
      " Education\n",
      "Graduation    1127\n",
      "PhD            486\n",
      "Master         370\n",
      "2n Cycle       203\n",
      "Basic           54\n",
      "Name: count, dtype: int64\n",
      "\n",
      ".......... Marital_Status ..........\n",
      "count                                                   2240\n",
      "unique     [Divorced, Single, Married, Together, Widow, Y...\n",
      "nunique                                                    8\n",
      "Name: Marital_Status, dtype: object\n",
      "value_counts:\n",
      " Marital_Status\n",
      "Married     864\n",
      "Together    580\n",
      "Single      480\n",
      "Divorced    232\n",
      "Widow        77\n",
      "Alone         3\n",
      "YOLO          2\n",
      "Absurd        2\n",
      "Name: count, dtype: int64\n",
      "\n",
      ".......... Country ..........\n",
      "count                                     2240\n",
      "unique     [SP, CA, US, AUS, GER, IND, SA, ME]\n",
      "nunique                                      8\n",
      "Name: Country, dtype: object\n",
      "value_counts:\n",
      " Country\n",
      "SP     1095\n",
      "SA      337\n",
      "CA      268\n",
      "AUS     160\n",
      "IND     148\n",
      "GER     120\n",
      "US      109\n",
      "ME        3\n",
      "Name: count, dtype: int64\n",
      "\n"
     ]
    }
   ],
   "source": [
    "discrete_univariate_analysis(discrete_df)"
   ]
  },
  {
   "cell_type": "code",
   "execution_count": 30,
   "id": "9d5db0be",
   "metadata": {},
   "outputs": [
    {
     "name": "stdout",
     "output_type": "stream",
     "text": [
      ".......... Income ..........\n",
      "min         1730.000000\n",
      "max       666666.000000\n",
      "mean       52247.251354\n",
      "median     51381.500000\n",
      "std        25173.076661\n",
      "Name: Income, dtype: float64\n",
      "\n",
      ".......... Recency ..........\n",
      "min        0.000000\n",
      "max       99.000000\n",
      "mean      49.109375\n",
      "median    49.000000\n",
      "std       28.962453\n",
      "Name: Recency, dtype: float64\n",
      "\n",
      ".......... MntWines ..........\n",
      "min          0.000000\n",
      "max       1493.000000\n",
      "mean       303.935714\n",
      "median     173.500000\n",
      "std        336.597393\n",
      "Name: MntWines, dtype: float64\n",
      "\n",
      ".......... MntFruits ..........\n",
      "min         0.000000\n",
      "max       199.000000\n",
      "mean       26.302232\n",
      "median      8.000000\n",
      "std        39.773434\n",
      "Name: MntFruits, dtype: float64\n",
      "\n",
      ".......... MntMeatProducts ..........\n",
      "min          0.000000\n",
      "max       1725.000000\n",
      "mean       166.950000\n",
      "median      67.000000\n",
      "std        225.715373\n",
      "Name: MntMeatProducts, dtype: float64\n",
      "\n",
      ".......... MntFishProducts ..........\n",
      "min         0.000000\n",
      "max       259.000000\n",
      "mean       37.525446\n",
      "median     12.000000\n",
      "std        54.628979\n",
      "Name: MntFishProducts, dtype: float64\n",
      "\n",
      ".......... MntSweetProducts ..........\n",
      "min         0.000000\n",
      "max       263.000000\n",
      "mean       27.062946\n",
      "median      8.000000\n",
      "std        41.280498\n",
      "Name: MntSweetProducts, dtype: float64\n",
      "\n",
      ".......... MntGoldProds ..........\n",
      "min         0.000000\n",
      "max       362.000000\n",
      "mean       44.021875\n",
      "median     24.000000\n",
      "std        52.167439\n",
      "Name: MntGoldProds, dtype: float64\n",
      "\n"
     ]
    }
   ],
   "source": [
    "numerical_univariate_analysis(numerical_df)"
   ]
  },
  {
   "cell_type": "code",
   "execution_count": 31,
   "id": "124ebde4",
   "metadata": {},
   "outputs": [
    {
     "name": "stdout",
     "output_type": "stream",
     "text": [
      ".......... Year_Birth ..........\n",
      "count                                                   2240\n",
      "unique     [1970, 1961, 1958, 1967, 1989, 1954, 1947, 197...\n",
      "nunique                                                   59\n",
      "Name: Year_Birth, dtype: object\n",
      "value_counts:\n",
      " Year_Birth\n",
      "1976    89\n",
      "1971    87\n",
      "1975    83\n",
      "1972    79\n",
      "1970    77\n",
      "1978    77\n",
      "1965    74\n",
      "1973    74\n",
      "1969    71\n",
      "1974    69\n",
      "1956    55\n",
      "1979    53\n",
      "1958    53\n",
      "1952    52\n",
      "1977    52\n",
      "1959    51\n",
      "1968    51\n",
      "1966    50\n",
      "1954    50\n",
      "1955    49\n",
      "1960    49\n",
      "1982    45\n",
      "1963    45\n",
      "1967    44\n",
      "1962    44\n",
      "1957    43\n",
      "1951    43\n",
      "1964    42\n",
      "1983    42\n",
      "1986    42\n",
      "1980    39\n",
      "1981    39\n",
      "1984    38\n",
      "1961    36\n",
      "1953    35\n",
      "1985    32\n",
      "1989    30\n",
      "1949    30\n",
      "1950    29\n",
      "1988    29\n",
      "1987    27\n",
      "1948    21\n",
      "1990    18\n",
      "1947    16\n",
      "1946    16\n",
      "1991    15\n",
      "1992    13\n",
      "1945     8\n",
      "1944     7\n",
      "1943     7\n",
      "1993     5\n",
      "1995     5\n",
      "1994     3\n",
      "1996     2\n",
      "1893     1\n",
      "1899     1\n",
      "1941     1\n",
      "1940     1\n",
      "1900     1\n",
      "Name: count, dtype: int64\n",
      "\n",
      ".......... Kidhome ..........\n",
      "count           2240\n",
      "unique     [0, 1, 2]\n",
      "nunique            3\n",
      "Name: Kidhome, dtype: object\n",
      "value_counts:\n",
      " Kidhome\n",
      "0    1293\n",
      "1     899\n",
      "2      48\n",
      "Name: count, dtype: int64\n",
      "\n",
      ".......... Teenhome ..........\n",
      "count           2240\n",
      "unique     [0, 1, 2]\n",
      "nunique            3\n",
      "Name: Teenhome, dtype: object\n",
      "value_counts:\n",
      " Teenhome\n",
      "0    1158\n",
      "1    1030\n",
      "2      52\n",
      "Name: count, dtype: int64\n",
      "\n",
      ".......... NumDealsPurchases ..........\n",
      "count                                                   2240\n",
      "unique     [1, 2, 3, 0, 4, 12, 7, 5, 6, 11, 9, 8, 10, 15,...\n",
      "nunique                                                   15\n",
      "Name: NumDealsPurchases, dtype: object\n",
      "value_counts:\n",
      " NumDealsPurchases\n",
      "1     970\n",
      "2     497\n",
      "3     297\n",
      "4     189\n",
      "5      94\n",
      "6      61\n",
      "0      46\n",
      "7      40\n",
      "8      14\n",
      "9       8\n",
      "15      7\n",
      "11      5\n",
      "10      5\n",
      "12      4\n",
      "13      3\n",
      "Name: count, dtype: int64\n",
      "\n",
      ".......... NumWebPurchases ..........\n",
      "count                                                   2240\n",
      "unique     [4, 7, 3, 1, 10, 2, 6, 5, 25, 8, 9, 0, 11, 27,...\n",
      "nunique                                                   15\n",
      "Name: NumWebPurchases, dtype: object\n",
      "value_counts:\n",
      " NumWebPurchases\n",
      "2     373\n",
      "1     354\n",
      "3     336\n",
      "4     280\n",
      "5     220\n",
      "6     205\n",
      "7     155\n",
      "8     102\n",
      "9      75\n",
      "0      49\n",
      "11     44\n",
      "10     43\n",
      "27      2\n",
      "25      1\n",
      "23      1\n",
      "Name: count, dtype: int64\n",
      "\n",
      ".......... NumCatalogPurchases ..........\n",
      "count                                                2240\n",
      "unique     [4, 3, 2, 0, 1, 7, 10, 6, 8, 5, 9, 11, 28, 22]\n",
      "nunique                                                14\n",
      "Name: NumCatalogPurchases, dtype: object\n",
      "value_counts:\n",
      " NumCatalogPurchases\n",
      "0     586\n",
      "1     497\n",
      "2     276\n",
      "3     184\n",
      "4     182\n",
      "5     140\n",
      "6     128\n",
      "7      79\n",
      "8      55\n",
      "10     48\n",
      "9      42\n",
      "11     19\n",
      "28      3\n",
      "22      1\n",
      "Name: count, dtype: int64\n",
      "\n",
      ".......... NumStorePurchases ..........\n",
      "count                                                2240\n",
      "unique     [6, 7, 5, 2, 3, 9, 10, 0, 8, 4, 13, 12, 1, 11]\n",
      "nunique                                                14\n",
      "Name: NumStorePurchases, dtype: object\n",
      "value_counts:\n",
      " NumStorePurchases\n",
      "3     490\n",
      "4     323\n",
      "2     223\n",
      "5     212\n",
      "6     178\n",
      "8     149\n",
      "7     143\n",
      "10    125\n",
      "9     106\n",
      "12    105\n",
      "13     83\n",
      "11     81\n",
      "0      15\n",
      "1       7\n",
      "Name: count, dtype: int64\n",
      "\n",
      ".......... NumWebVisitsMonth ..........\n",
      "count                                                   2240\n",
      "unique     [1, 5, 2, 7, 6, 4, 8, 3, 9, 0, 17, 13, 10, 14,...\n",
      "nunique                                                   16\n",
      "Name: NumWebVisitsMonth, dtype: object\n",
      "value_counts:\n",
      " NumWebVisitsMonth\n",
      "7     393\n",
      "8     342\n",
      "6     340\n",
      "5     281\n",
      "4     218\n",
      "3     205\n",
      "2     202\n",
      "1     153\n",
      "9      83\n",
      "0      11\n",
      "10      3\n",
      "20      3\n",
      "14      2\n",
      "19      2\n",
      "17      1\n",
      "13      1\n",
      "Name: count, dtype: int64\n",
      "\n",
      ".......... AcceptedCmp3 ..........\n",
      "count        2240\n",
      "unique     [0, 1]\n",
      "nunique         2\n",
      "Name: AcceptedCmp3, dtype: object\n",
      "value_counts:\n",
      " AcceptedCmp3\n",
      "0    2077\n",
      "1     163\n",
      "Name: count, dtype: int64\n",
      "\n",
      ".......... AcceptedCmp4 ..........\n",
      "count        2240\n",
      "unique     [0, 1]\n",
      "nunique         2\n",
      "Name: AcceptedCmp4, dtype: object\n",
      "value_counts:\n",
      " AcceptedCmp4\n",
      "0    2073\n",
      "1     167\n",
      "Name: count, dtype: int64\n",
      "\n",
      ".......... AcceptedCmp5 ..........\n",
      "count        2240\n",
      "unique     [0, 1]\n",
      "nunique         2\n",
      "Name: AcceptedCmp5, dtype: object\n",
      "value_counts:\n",
      " AcceptedCmp5\n",
      "0    2077\n",
      "1     163\n",
      "Name: count, dtype: int64\n",
      "\n",
      ".......... AcceptedCmp1 ..........\n",
      "count        2240\n",
      "unique     [0, 1]\n",
      "nunique         2\n",
      "Name: AcceptedCmp1, dtype: object\n",
      "value_counts:\n",
      " AcceptedCmp1\n",
      "0    2096\n",
      "1     144\n",
      "Name: count, dtype: int64\n",
      "\n",
      ".......... AcceptedCmp2 ..........\n",
      "count        2240\n",
      "unique     [0, 1]\n",
      "nunique         2\n",
      "Name: AcceptedCmp2, dtype: object\n",
      "value_counts:\n",
      " AcceptedCmp2\n",
      "0    2210\n",
      "1      30\n",
      "Name: count, dtype: int64\n",
      "\n",
      ".......... Response ..........\n",
      "count        2240\n",
      "unique     [1, 0]\n",
      "nunique         2\n",
      "Name: Response, dtype: object\n",
      "value_counts:\n",
      " Response\n",
      "0    1906\n",
      "1     334\n",
      "Name: count, dtype: int64\n",
      "\n",
      ".......... Complain ..........\n",
      "count        2240\n",
      "unique     [0, 1]\n",
      "nunique         2\n",
      "Name: Complain, dtype: object\n",
      "value_counts:\n",
      " Complain\n",
      "0    2219\n",
      "1      21\n",
      "Name: count, dtype: int64\n",
      "\n"
     ]
    }
   ],
   "source": [
    "discrete_univariate_analysis(discrete_num_df)"
   ]
  },
  {
   "cell_type": "code",
   "execution_count": 32,
   "id": "3b730286",
   "metadata": {},
   "outputs": [
    {
     "name": "stdout",
     "output_type": "stream",
     "text": [
      "<class 'pandas.core.frame.DataFrame'>\n",
      "RangeIndex: 2240 entries, 0 to 2239\n",
      "Data columns (total 28 columns):\n",
      " #   Column               Non-Null Count  Dtype         \n",
      "---  ------               --------------  -----         \n",
      " 0   ID                   2240 non-null   object        \n",
      " 1   Year_Birth           2240 non-null   object        \n",
      " 2   Education            2240 non-null   object        \n",
      " 3   Marital_Status       2240 non-null   object        \n",
      " 4   Income               2216 non-null   float64       \n",
      " 5   Kidhome              2240 non-null   object        \n",
      " 6   Teenhome             2240 non-null   object        \n",
      " 7   Dt_Customer          2240 non-null   datetime64[ns]\n",
      " 8   Recency              2240 non-null   int64         \n",
      " 9   MntWines             2240 non-null   int64         \n",
      " 10  MntFruits            2240 non-null   int64         \n",
      " 11  MntMeatProducts      2240 non-null   int64         \n",
      " 12  MntFishProducts      2240 non-null   int64         \n",
      " 13  MntSweetProducts     2240 non-null   int64         \n",
      " 14  MntGoldProds         2240 non-null   int64         \n",
      " 15  NumDealsPurchases    2240 non-null   object        \n",
      " 16  NumWebPurchases      2240 non-null   object        \n",
      " 17  NumCatalogPurchases  2240 non-null   object        \n",
      " 18  NumStorePurchases    2240 non-null   object        \n",
      " 19  NumWebVisitsMonth    2240 non-null   object        \n",
      " 20  AcceptedCmp3         2240 non-null   object        \n",
      " 21  AcceptedCmp4         2240 non-null   object        \n",
      " 22  AcceptedCmp5         2240 non-null   object        \n",
      " 23  AcceptedCmp1         2240 non-null   object        \n",
      " 24  AcceptedCmp2         2240 non-null   object        \n",
      " 25  Response             2240 non-null   object        \n",
      " 26  Complain             2240 non-null   object        \n",
      " 27  Country              2240 non-null   object        \n",
      "dtypes: datetime64[ns](1), float64(1), int64(7), object(19)\n",
      "memory usage: 490.1+ KB\n"
     ]
    }
   ],
   "source": [
    "df[discrete_num_cols] = df[discrete_num_cols].astype('object')\n",
    "\n",
    "df.info()"
   ]
  },
  {
   "cell_type": "code",
   "execution_count": 33,
   "id": "09b3e65e",
   "metadata": {},
   "outputs": [],
   "source": [
    "df = df.dropna(subset=['Income'])"
   ]
  },
  {
   "cell_type": "code",
   "execution_count": 34,
   "id": "c695f89a",
   "metadata": {},
   "outputs": [
    {
     "data": {
      "text/plain": [
       "(2216, 28)"
      ]
     },
     "execution_count": 34,
     "metadata": {},
     "output_type": "execute_result"
    }
   ],
   "source": [
    "df.shape"
   ]
  },
  {
   "cell_type": "code",
   "execution_count": 35,
   "id": "b2db437b",
   "metadata": {},
   "outputs": [
    {
     "data": {
      "text/plain": [
       "(2015, 28)"
      ]
     },
     "execution_count": 35,
     "metadata": {},
     "output_type": "execute_result"
    }
   ],
   "source": [
    "cols = ['Year_Birth' , 'Education', 'Marital_Status', 'Income','Dt_Customer', 'MntWines']\n",
    "\n",
    "df = df.drop_duplicates(subset=cols)\n",
    "\n",
    "df.shape"
   ]
  },
  {
   "cell_type": "markdown",
   "id": "80ae79fd",
   "metadata": {},
   "source": [
    "### Univariate - Visual Analysis"
   ]
  },
  {
   "cell_type": "code",
   "execution_count": 37,
   "id": "d208f47d",
   "metadata": {},
   "outputs": [
    {
     "data": {
      "text/plain": [
       "Income                 Axes(0.125,0.712609;0.352273x0.167391)\n",
       "Recency             Axes(0.547727,0.712609;0.352273x0.167391)\n",
       "MntWines               Axes(0.125,0.511739;0.352273x0.167391)\n",
       "MntFruits           Axes(0.547727,0.511739;0.352273x0.167391)\n",
       "MntMeatProducts         Axes(0.125,0.31087;0.352273x0.167391)\n",
       "MntFishProducts      Axes(0.547727,0.31087;0.352273x0.167391)\n",
       "MntSweetProducts           Axes(0.125,0.11;0.352273x0.167391)\n",
       "MntGoldProds            Axes(0.547727,0.11;0.352273x0.167391)\n",
       "dtype: object"
      ]
     },
     "execution_count": 37,
     "metadata": {},
     "output_type": "execute_result"
    },
    {
     "data": {
      "image/png": "[encoded data removed]",
      "text/plain": [
       "<Figure size 1200x1200 with 8 Axes>"
      ]
     },
     "metadata": {},
     "output_type": "display_data"
    }
   ],
   "source": [
    "df.plot(kind='box', subplots=True, layout=(4, 2), figsize=(12, 12))"
   ]
  },
  {
   "cell_type": "code",
   "execution_count": 38,
   "id": "73dc849c",
   "metadata": {},
   "outputs": [
    {
     "data": {
      "text/plain": [
       "<Axes: xlabel='Country'>"
      ]
     },
     "execution_count": 38,
     "metadata": {},
     "output_type": "execute_result"
    },
    {
     "data": {
      "image/png": "[encoded data removed]",
      "text/plain": [
       "<Figure size 640x480 with 1 Axes>"
      ]
     },
     "metadata": {},
     "output_type": "display_data"
    }
   ],
   "source": [
    "df['Country'].value_counts().plot(kind='bar')"
   ]
  },
  {
   "cell_type": "code",
   "execution_count": 39,
   "id": "9e304c48",
   "metadata": {},
   "outputs": [
    {
     "data": {
      "text/plain": [
       "<Axes: xlabel='AcceptedCmp1'>"
      ]
     },
     "execution_count": 39,
     "metadata": {},
     "output_type": "execute_result"
    },
    {
     "data": {
      "image/png": "[encoded data removed]",
      "text/plain": [
       "<Figure size 640x480 with 1 Axes>"
      ]
     },
     "metadata": {},
     "output_type": "display_data"
    }
   ],
   "source": [
    "df['AcceptedCmp1'].value_counts().plot(kind='bar')"
   ]
  },
  {
   "cell_type": "code",
   "execution_count": 40,
   "id": "310e1f3f",
   "metadata": {},
   "outputs": [
    {
     "data": {
      "text/plain": [
       "<Axes: xlabel='AcceptedCmp2'>"
      ]
     },
     "execution_count": 40,
     "metadata": {},
     "output_type": "execute_result"
    },
    {
     "data": {
      "image/png": "[encoded data removed]",
      "text/plain": [
       "<Figure size 640x480 with 1 Axes>"
      ]
     },
     "metadata": {},
     "output_type": "display_data"
    }
   ],
   "source": [
    "df['AcceptedCmp2'].value_counts().plot(kind='bar')"
   ]
  },
  {
   "cell_type": "code",
   "execution_count": 41,
   "id": "c4131bb1",
   "metadata": {},
   "outputs": [
    {
     "data": {
      "text/plain": [
       "<Axes: xlabel='AcceptedCmp3'>"
      ]
     },
     "execution_count": 41,
     "metadata": {},
     "output_type": "execute_result"
    },
    {
     "data": {
      "image/png": "[encoded data removed]",
      "text/plain": [
       "<Figure size 640x480 with 1 Axes>"
      ]
     },
     "metadata": {},
     "output_type": "display_data"
    }
   ],
   "source": [
    "df['AcceptedCmp3'].value_counts().plot(kind='bar')"
   ]
  },
  {
   "cell_type": "code",
   "execution_count": 42,
   "id": "fbcdf9c9",
   "metadata": {},
   "outputs": [
    {
     "data": {
      "text/plain": [
       "<Axes: xlabel='AcceptedCmp4'>"
      ]
     },
     "execution_count": 42,
     "metadata": {},
     "output_type": "execute_result"
    },
    {
     "data": {
      "image/png": "[encoded data removed]",
      "text/plain": [
       "<Figure size 640x480 with 1 Axes>"
      ]
     },
     "metadata": {},
     "output_type": "display_data"
    }
   ],
   "source": [
    "df['AcceptedCmp4'].value_counts().plot(kind='bar')"
   ]
  },
  {
   "cell_type": "code",
   "execution_count": 43,
   "id": "befca50a",
   "metadata": {},
   "outputs": [
    {
     "data": {
      "text/plain": [
       "<Axes: xlabel='AcceptedCmp5'>"
      ]
     },
     "execution_count": 43,
     "metadata": {},
     "output_type": "execute_result"
    },
    {
     "data": {
      "image/png": "[encoded data removed]",
      "text/plain": [
       "<Figure size 640x480 with 1 Axes>"
      ]
     },
     "metadata": {},
     "output_type": "display_data"
    }
   ],
   "source": [
    "df['AcceptedCmp5'].value_counts().plot(kind='bar')"
   ]
  },
  {
   "cell_type": "code",
   "execution_count": 44,
   "id": "cb55710c",
   "metadata": {},
   "outputs": [
    {
     "data": {
      "text/plain": [
       "<Axes: xlabel='Response'>"
      ]
     },
     "execution_count": 44,
     "metadata": {},
     "output_type": "execute_result"
    },
    {
     "data": {
      "image/png": "[encoded data removed]",
      "text/plain": [
       "<Figure size 640x480 with 1 Axes>"
      ]
     },
     "metadata": {},
     "output_type": "display_data"
    }
   ],
   "source": [
    "df['Response'].value_counts().plot(kind='bar')"
   ]
  },
  {
   "cell_type": "markdown",
   "id": "35b1459e",
   "metadata": {},
   "source": [
    "### Removing the outliers"
   ]
  },
  {
   "cell_type": "code",
   "execution_count": 45,
   "id": "18e0df08",
   "metadata": {},
   "outputs": [
    {
     "data": {
      "text/plain": [
       "(2002, 28)"
      ]
     },
     "execution_count": 45,
     "metadata": {},
     "output_type": "execute_result"
    }
   ],
   "source": [
    "df = df.loc[df['Income'] < 100000]\n",
    "\n",
    "df.shape"
   ]
  },
  {
   "cell_type": "code",
   "execution_count": 46,
   "id": "4047ceee",
   "metadata": {},
   "outputs": [
    {
     "data": {
      "text/plain": [
       "(2001, 28)"
      ]
     },
     "execution_count": 46,
     "metadata": {},
     "output_type": "execute_result"
    }
   ],
   "source": [
    "df = df.loc[(df['MntMeatProducts'] < 1000)]\n",
    "\n",
    "df.shape"
   ]
  },
  {
   "cell_type": "code",
   "execution_count": 47,
   "id": "f6176793",
   "metadata": {},
   "outputs": [
    {
     "data": {
      "text/plain": [
       "(2001, 28)"
      ]
     },
     "execution_count": 47,
     "metadata": {},
     "output_type": "execute_result"
    }
   ],
   "source": [
    "df = df.loc[(df['MntSweetProducts'] < 200)]\n",
    "\n",
    "df.shape"
   ]
  },
  {
   "cell_type": "code",
   "execution_count": 48,
   "id": "49a2a4a6",
   "metadata": {},
   "outputs": [
    {
     "data": {
      "text/plain": [
       "(1998, 28)"
      ]
     },
     "execution_count": 48,
     "metadata": {},
     "output_type": "execute_result"
    }
   ],
   "source": [
    "df = df.loc[(df['MntGoldProds'] < 250)]\n",
    "\n",
    "df.shape"
   ]
  },
  {
   "cell_type": "code",
   "execution_count": 49,
   "id": "7ddd9345",
   "metadata": {},
   "outputs": [
    {
     "data": {
      "text/plain": [
       "(1990, 28)"
      ]
     },
     "execution_count": 49,
     "metadata": {},
     "output_type": "execute_result"
    }
   ],
   "source": [
    "df = df.loc[(df['MntFishProducts'] < 250)]\n",
    "\n",
    "df.shape"
   ]
  },
  {
   "cell_type": "code",
   "execution_count": 50,
   "id": "56288b0b",
   "metadata": {},
   "outputs": [
    {
     "data": {
      "text/plain": [
       "(1990, 28)"
      ]
     },
     "execution_count": 50,
     "metadata": {},
     "output_type": "execute_result"
    }
   ],
   "source": [
    "df = df.loc[(df['MntWines'] < 1500)]\n",
    "\n",
    "df.shape"
   ]
  },
  {
   "cell_type": "code",
   "execution_count": 51,
   "id": "ad4ce26a",
   "metadata": {},
   "outputs": [
    {
     "data": {
      "text/plain": [
       "(1990, 28)"
      ]
     },
     "execution_count": 51,
     "metadata": {},
     "output_type": "execute_result"
    }
   ],
   "source": [
    "df = df.loc[(df['MntFruits'] < 200)]\n",
    "\n",
    "df.shape"
   ]
  },
  {
   "cell_type": "markdown",
   "id": "40c6f0c1",
   "metadata": {},
   "source": [
    "### Bivariate Analysis"
   ]
  },
  {
   "cell_type": "code",
   "execution_count": 53,
   "id": "ac686012",
   "metadata": {},
   "outputs": [
    {
     "name": "stdout",
     "output_type": "stream",
     "text": [
      "<class 'pandas.core.frame.DataFrame'>\n",
      "Index: 1990 entries, 0 to 2239\n",
      "Data columns (total 28 columns):\n",
      " #   Column               Non-Null Count  Dtype         \n",
      "---  ------               --------------  -----         \n",
      " 0   ID                   1990 non-null   object        \n",
      " 1   Year_Birth           1990 non-null   object        \n",
      " 2   Education            1990 non-null   object        \n",
      " 3   Marital_Status       1990 non-null   object        \n",
      " 4   Income               1990 non-null   float64       \n",
      " 5   Kidhome              1990 non-null   object        \n",
      " 6   Teenhome             1990 non-null   object        \n",
      " 7   Dt_Customer          1990 non-null   datetime64[ns]\n",
      " 8   Recency              1990 non-null   int64         \n",
      " 9   MntWines             1990 non-null   int64         \n",
      " 10  MntFruits            1990 non-null   int64         \n",
      " 11  MntMeatProducts      1990 non-null   int64         \n",
      " 12  MntFishProducts      1990 non-null   int64         \n",
      " 13  MntSweetProducts     1990 non-null   int64         \n",
      " 14  MntGoldProds         1990 non-null   int64         \n",
      " 15  NumDealsPurchases    1990 non-null   object        \n",
      " 16  NumWebPurchases      1990 non-null   object        \n",
      " 17  NumCatalogPurchases  1990 non-null   object        \n",
      " 18  NumStorePurchases    1990 non-null   object        \n",
      " 19  NumWebVisitsMonth    1990 non-null   object        \n",
      " 20  AcceptedCmp3         1990 non-null   object        \n",
      " 21  AcceptedCmp4         1990 non-null   object        \n",
      " 22  AcceptedCmp5         1990 non-null   object        \n",
      " 23  AcceptedCmp1         1990 non-null   object        \n",
      " 24  AcceptedCmp2         1990 non-null   object        \n",
      " 25  Response             1990 non-null   object        \n",
      " 26  Complain             1990 non-null   object        \n",
      " 27  Country              1990 non-null   object        \n",
      "dtypes: datetime64[ns](1), float64(1), int64(7), object(19)\n",
      "memory usage: 450.9+ KB\n"
     ]
    }
   ],
   "source": [
    "df.info()"
   ]
  },
  {
   "cell_type": "markdown",
   "id": "a42cb4d8",
   "metadata": {},
   "source": [
    "### Income vs Products"
   ]
  },
  {
   "cell_type": "code",
   "execution_count": 54,
   "id": "e1b462ea",
   "metadata": {},
   "outputs": [
    {
     "data": {
      "text/plain": [
       "<Axes: xlabel='Income', ylabel='MntWines'>"
      ]
     },
     "execution_count": 54,
     "metadata": {},
     "output_type": "execute_result"
    },
    {
     "data": {
      "image/png": "[encoded data removed]",
      "text/plain": [
       "<Figure size 400x400 with 1 Axes>"
      ]
     },
     "metadata": {},
     "output_type": "display_data"
    }
   ],
   "source": [
    "df.plot(kind='scatter', x='Income', y='MntWines', figsize=(4, 4))"
   ]
  },
  {
   "cell_type": "code",
   "execution_count": 55,
   "id": "5674f822",
   "metadata": {},
   "outputs": [
    {
     "data": {
      "text/plain": [
       "<Axes: xlabel='Income', ylabel='MntFruits'>"
      ]
     },
     "execution_count": 55,
     "metadata": {},
     "output_type": "execute_result"
    },
    {
     "data": {
      "image/png": "[encoded data removed]",
      "text/plain": [
       "<Figure size 400x400 with 1 Axes>"
      ]
     },
     "metadata": {},
     "output_type": "display_data"
    }
   ],
   "source": [
    "df.plot(kind='scatter', x='Income', y='MntFruits', figsize=(4, 4))"
   ]
  },
  {
   "cell_type": "code",
   "execution_count": 56,
   "id": "8293e8d6",
   "metadata": {},
   "outputs": [
    {
     "data": {
      "text/plain": [
       "<Axes: xlabel='Income', ylabel='MntMeatProducts'>"
      ]
     },
     "execution_count": 56,
     "metadata": {},
     "output_type": "execute_result"
    },
    {
     "data": {
      "image/png": "[encoded data removed]",
      "text/plain": [
       "<Figure size 400x400 with 1 Axes>"
      ]
     },
     "metadata": {},
     "output_type": "display_data"
    }
   ],
   "source": [
    "df.plot(kind='scatter', x='Income', y='MntMeatProducts', figsize=(4, 4))"
   ]
  },
  {
   "cell_type": "code",
   "execution_count": 57,
   "id": "58366122",
   "metadata": {},
   "outputs": [
    {
     "data": {
      "text/plain": [
       "<Axes: xlabel='Income', ylabel='MntGoldProds'>"
      ]
     },
     "execution_count": 57,
     "metadata": {},
     "output_type": "execute_result"
    },
    {
     "data": {
      "image/png": "[encoded data removed]",
      "text/plain": [
       "<Figure size 400x400 with 1 Axes>"
      ]
     },
     "metadata": {},
     "output_type": "display_data"
    }
   ],
   "source": [
    "df.plot(kind='scatter', x='Income', y='MntGoldProds', figsize=(4, 4))"
   ]
  },
  {
   "cell_type": "code",
   "execution_count": 58,
   "id": "49e860a4",
   "metadata": {},
   "outputs": [
    {
     "data": {
      "text/plain": [
       "<Axes: xlabel='Income', ylabel='MntSweetProducts'>"
      ]
     },
     "execution_count": 58,
     "metadata": {},
     "output_type": "execute_result"
    },
    {
     "data": {
      "image/png": "[encoded data removed]",
      "text/plain": [
       "<Figure size 400x400 with 1 Axes>"
      ]
     },
     "metadata": {},
     "output_type": "display_data"
    }
   ],
   "source": [
    "df.plot(kind='scatter', x='Income', y='MntSweetProducts', figsize=(4, 4))"
   ]
  },
  {
   "cell_type": "code",
   "execution_count": 59,
   "id": "795ba49f",
   "metadata": {},
   "outputs": [
    {
     "data": {
      "text/plain": [
       "<Axes: xlabel='Income', ylabel='MntFishProducts'>"
      ]
     },
     "execution_count": 59,
     "metadata": {},
     "output_type": "execute_result"
    },
    {
     "data": {
      "image/png": "[encoded data removed]",
      "text/plain": [
       "<Figure size 400x400 with 1 Axes>"
      ]
     },
     "metadata": {},
     "output_type": "display_data"
    }
   ],
   "source": [
    "df.plot(kind='scatter', x='Income', y='MntFishProducts', figsize=(4, 4))"
   ]
  },
  {
   "cell_type": "code",
   "execution_count": 60,
   "id": "43ed7a54",
   "metadata": {},
   "outputs": [],
   "source": [
    "Products = df.columns.str.startswith(\"Mnt\")"
   ]
  },
  {
   "cell_type": "code",
   "execution_count": 61,
   "id": "288cbadc",
   "metadata": {},
   "outputs": [
    {
     "data": {
      "text/html": [
       "<div>\n",
       "<style scoped>\n",
       "    .dataframe tbody tr th:only-of-type {\n",
       "        vertical-align: middle;\n",
       "    }\n",
       "\n",
       "    .dataframe tbody tr th {\n",
       "        vertical-align: top;\n",
       "    }\n",
       "\n",
       "    .dataframe thead th {\n",
       "        text-align: right;\n",
       "    }\n",
       "</style>\n",
       "<table border=\"1\" class=\"dataframe\">\n",
       "  <thead>\n",
       "    <tr style=\"text-align: right;\">\n",
       "      <th></th>\n",
       "      <th>min</th>\n",
       "      <th>max</th>\n",
       "      <th>mean</th>\n",
       "      <th>median</th>\n",
       "    </tr>\n",
       "    <tr>\n",
       "      <th>Kidhome</th>\n",
       "      <th></th>\n",
       "      <th></th>\n",
       "      <th></th>\n",
       "      <th></th>\n",
       "    </tr>\n",
       "  </thead>\n",
       "  <tbody>\n",
       "    <tr>\n",
       "      <th>0</th>\n",
       "      <td>0</td>\n",
       "      <td>199</td>\n",
       "      <td>39.324891</td>\n",
       "      <td>22.0</td>\n",
       "    </tr>\n",
       "    <tr>\n",
       "      <th>1</th>\n",
       "      <td>0</td>\n",
       "      <td>161</td>\n",
       "      <td>8.606965</td>\n",
       "      <td>3.0</td>\n",
       "    </tr>\n",
       "    <tr>\n",
       "      <th>2</th>\n",
       "      <td>0</td>\n",
       "      <td>123</td>\n",
       "      <td>6.634146</td>\n",
       "      <td>1.0</td>\n",
       "    </tr>\n",
       "  </tbody>\n",
       "</table>\n",
       "</div>"
      ],
      "text/plain": [
       "         min  max       mean  median\n",
       "Kidhome                             \n",
       "0          0  199  39.324891    22.0\n",
       "1          0  161   8.606965     3.0\n",
       "2          0  123   6.634146     1.0"
      ]
     },
     "execution_count": 61,
     "metadata": {},
     "output_type": "execute_result"
    }
   ],
   "source": [
    "group = df.groupby('Kidhome')\n",
    "\n",
    "group['MntFruits'].agg(['min', 'max', 'mean', 'median'])"
   ]
  },
  {
   "cell_type": "code",
   "execution_count": 62,
   "id": "a088e840",
   "metadata": {},
   "outputs": [
    {
     "data": {
      "text/plain": [
       "<Axes: title={'center': 'MntFruits'}, xlabel='Teenhome'>"
      ]
     },
     "execution_count": 62,
     "metadata": {},
     "output_type": "execute_result"
    },
    {
     "data": {
      "image/png": "[encoded data removed]",
      "text/plain": [
       "<Figure size 640x480 with 1 Axes>"
      ]
     },
     "metadata": {},
     "output_type": "display_data"
    }
   ],
   "source": [
    "df.boxplot(by='Teenhome', column='MntFruits')"
   ]
  },
  {
   "cell_type": "code",
   "execution_count": 63,
   "id": "b3956dc4",
   "metadata": {},
   "outputs": [
    {
     "data": {
      "text/plain": [
       "<Axes: title={'center': 'MntSweetProducts'}, xlabel='Kidhome'>"
      ]
     },
     "execution_count": 63,
     "metadata": {},
     "output_type": "execute_result"
    },
    {
     "data": {
      "image/png": "[encoded data removed]",
      "text/plain": [
       "<Figure size 640x480 with 1 Axes>"
      ]
     },
     "metadata": {},
     "output_type": "display_data"
    }
   ],
   "source": [
    "df.boxplot(by='Kidhome', column='MntSweetProducts')"
   ]
  },
  {
   "cell_type": "markdown",
   "id": "1c69ed64",
   "metadata": {},
   "source": [
    "### Income vs Num Of Deal Purchases"
   ]
  },
  {
   "cell_type": "code",
   "execution_count": 64,
   "id": "c34557bd",
   "metadata": {},
   "outputs": [
    {
     "data": {
      "text/plain": [
       "<Axes: title={'center': 'Income'}, xlabel='NumDealsPurchases'>"
      ]
     },
     "execution_count": 64,
     "metadata": {},
     "output_type": "execute_result"
    },
    {
     "data": {
      "image/png": "[encoded data removed]",
      "text/plain": [
       "<Figure size 640x480 with 1 Axes>"
      ]
     },
     "metadata": {},
     "output_type": "display_data"
    }
   ],
   "source": [
    "df.boxplot( column= 'Income', by='NumDealsPurchases' )"
   ]
  },
  {
   "cell_type": "markdown",
   "id": "2b82d76a",
   "metadata": {},
   "source": [
    "### Kidhome Vs Web, Store, Catalog Purchases"
   ]
  },
  {
   "cell_type": "code",
   "execution_count": 65,
   "id": "c6ffc5c7",
   "metadata": {},
   "outputs": [
    {
     "data": {
      "text/plain": [
       "<Axes: title={'center': 'NumWebPurchases'}, xlabel='Kidhome'>"
      ]
     },
     "execution_count": 65,
     "metadata": {},
     "output_type": "execute_result"
    },
    {
     "data": {
      "image/png": "[encoded data removed]",
      "text/plain": [
       "<Figure size 640x480 with 1 Axes>"
      ]
     },
     "metadata": {},
     "output_type": "display_data"
    }
   ],
   "source": [
    "df.boxplot( by= 'Kidhome', column='NumWebPurchases' )"
   ]
  },
  {
   "cell_type": "code",
   "execution_count": 66,
   "id": "907dde93",
   "metadata": {},
   "outputs": [
    {
     "data": {
      "text/plain": [
       "<Axes: title={'center': 'NumCatalogPurchases'}, xlabel='Kidhome'>"
      ]
     },
     "execution_count": 66,
     "metadata": {},
     "output_type": "execute_result"
    },
    {
     "data": {
      "image/png": "[encoded data removed]",
      "text/plain": [
       "<Figure size 640x480 with 1 Axes>"
      ]
     },
     "metadata": {},
     "output_type": "display_data"
    }
   ],
   "source": [
    "df.boxplot( by= 'Kidhome', column='NumCatalogPurchases' )"
   ]
  },
  {
   "cell_type": "code",
   "execution_count": 67,
   "id": "f6710189",
   "metadata": {},
   "outputs": [
    {
     "data": {
      "text/plain": [
       "<Axes: title={'center': 'NumStorePurchases'}, xlabel='Kidhome'>"
      ]
     },
     "execution_count": 67,
     "metadata": {},
     "output_type": "execute_result"
    },
    {
     "data": {
      "image/png": "[encoded data removed]",
      "text/plain": [
       "<Figure size 640x480 with 1 Axes>"
      ]
     },
     "metadata": {},
     "output_type": "display_data"
    }
   ],
   "source": [
    "df.boxplot( by= 'Kidhome', column='NumStorePurchases' )"
   ]
  },
  {
   "cell_type": "markdown",
   "id": "c01d1c66",
   "metadata": {},
   "source": [
    "### Education Vs Campaign Accepted "
   ]
  },
  {
   "cell_type": "code",
   "execution_count": 68,
   "id": "ca112b6b",
   "metadata": {},
   "outputs": [],
   "source": [
    "a = ['AcceptedCmp3','AcceptedCmp4', 'AcceptedCmp5', 'AcceptedCmp1', 'AcceptedCmp2', 'Response']\n",
    "\n",
    "df['accepted_campaign'] = df[a].sum(axis=1)"
   ]
  },
  {
   "cell_type": "code",
   "execution_count": 69,
   "id": "abc73726",
   "metadata": {},
   "outputs": [
    {
     "data": {
      "text/html": [
       "<div>\n",
       "<style scoped>\n",
       "    .dataframe tbody tr th:only-of-type {\n",
       "        vertical-align: middle;\n",
       "    }\n",
       "\n",
       "    .dataframe tbody tr th {\n",
       "        vertical-align: top;\n",
       "    }\n",
       "\n",
       "    .dataframe thead th {\n",
       "        text-align: right;\n",
       "    }\n",
       "</style>\n",
       "<table border=\"1\" class=\"dataframe\">\n",
       "  <thead>\n",
       "    <tr style=\"text-align: right;\">\n",
       "      <th></th>\n",
       "      <th>ID</th>\n",
       "      <th>Year_Birth</th>\n",
       "      <th>Education</th>\n",
       "      <th>Marital_Status</th>\n",
       "      <th>Income</th>\n",
       "      <th>Kidhome</th>\n",
       "      <th>Teenhome</th>\n",
       "      <th>Dt_Customer</th>\n",
       "      <th>Recency</th>\n",
       "      <th>MntWines</th>\n",
       "      <th>...</th>\n",
       "      <th>NumWebVisitsMonth</th>\n",
       "      <th>AcceptedCmp3</th>\n",
       "      <th>AcceptedCmp4</th>\n",
       "      <th>AcceptedCmp5</th>\n",
       "      <th>AcceptedCmp1</th>\n",
       "      <th>AcceptedCmp2</th>\n",
       "      <th>Response</th>\n",
       "      <th>Complain</th>\n",
       "      <th>Country</th>\n",
       "      <th>accepted_campaign</th>\n",
       "    </tr>\n",
       "  </thead>\n",
       "  <tbody>\n",
       "    <tr>\n",
       "      <th>0</th>\n",
       "      <td>1826</td>\n",
       "      <td>1970</td>\n",
       "      <td>Graduation</td>\n",
       "      <td>Divorced</td>\n",
       "      <td>84835.0</td>\n",
       "      <td>0</td>\n",
       "      <td>0</td>\n",
       "      <td>2014-06-16</td>\n",
       "      <td>0</td>\n",
       "      <td>189</td>\n",
       "      <td>...</td>\n",
       "      <td>1</td>\n",
       "      <td>0</td>\n",
       "      <td>0</td>\n",
       "      <td>0</td>\n",
       "      <td>0</td>\n",
       "      <td>0</td>\n",
       "      <td>1</td>\n",
       "      <td>0</td>\n",
       "      <td>SP</td>\n",
       "      <td>1</td>\n",
       "    </tr>\n",
       "    <tr>\n",
       "      <th>1</th>\n",
       "      <td>1</td>\n",
       "      <td>1961</td>\n",
       "      <td>Graduation</td>\n",
       "      <td>Single</td>\n",
       "      <td>57091.0</td>\n",
       "      <td>0</td>\n",
       "      <td>0</td>\n",
       "      <td>2014-06-15</td>\n",
       "      <td>0</td>\n",
       "      <td>464</td>\n",
       "      <td>...</td>\n",
       "      <td>5</td>\n",
       "      <td>0</td>\n",
       "      <td>0</td>\n",
       "      <td>0</td>\n",
       "      <td>0</td>\n",
       "      <td>1</td>\n",
       "      <td>1</td>\n",
       "      <td>0</td>\n",
       "      <td>CA</td>\n",
       "      <td>2</td>\n",
       "    </tr>\n",
       "    <tr>\n",
       "      <th>2</th>\n",
       "      <td>10476</td>\n",
       "      <td>1958</td>\n",
       "      <td>Graduation</td>\n",
       "      <td>Married</td>\n",
       "      <td>67267.0</td>\n",
       "      <td>0</td>\n",
       "      <td>1</td>\n",
       "      <td>2014-05-13</td>\n",
       "      <td>0</td>\n",
       "      <td>134</td>\n",
       "      <td>...</td>\n",
       "      <td>2</td>\n",
       "      <td>0</td>\n",
       "      <td>0</td>\n",
       "      <td>0</td>\n",
       "      <td>0</td>\n",
       "      <td>0</td>\n",
       "      <td>0</td>\n",
       "      <td>0</td>\n",
       "      <td>US</td>\n",
       "      <td>0</td>\n",
       "    </tr>\n",
       "    <tr>\n",
       "      <th>3</th>\n",
       "      <td>1386</td>\n",
       "      <td>1967</td>\n",
       "      <td>Graduation</td>\n",
       "      <td>Together</td>\n",
       "      <td>32474.0</td>\n",
       "      <td>1</td>\n",
       "      <td>1</td>\n",
       "      <td>2014-05-11</td>\n",
       "      <td>0</td>\n",
       "      <td>10</td>\n",
       "      <td>...</td>\n",
       "      <td>7</td>\n",
       "      <td>0</td>\n",
       "      <td>0</td>\n",
       "      <td>0</td>\n",
       "      <td>0</td>\n",
       "      <td>0</td>\n",
       "      <td>0</td>\n",
       "      <td>0</td>\n",
       "      <td>AUS</td>\n",
       "      <td>0</td>\n",
       "    </tr>\n",
       "    <tr>\n",
       "      <th>4</th>\n",
       "      <td>5371</td>\n",
       "      <td>1989</td>\n",
       "      <td>Graduation</td>\n",
       "      <td>Single</td>\n",
       "      <td>21474.0</td>\n",
       "      <td>1</td>\n",
       "      <td>0</td>\n",
       "      <td>2014-04-08</td>\n",
       "      <td>0</td>\n",
       "      <td>6</td>\n",
       "      <td>...</td>\n",
       "      <td>7</td>\n",
       "      <td>1</td>\n",
       "      <td>0</td>\n",
       "      <td>0</td>\n",
       "      <td>0</td>\n",
       "      <td>0</td>\n",
       "      <td>1</td>\n",
       "      <td>0</td>\n",
       "      <td>SP</td>\n",
       "      <td>2</td>\n",
       "    </tr>\n",
       "  </tbody>\n",
       "</table>\n",
       "<p>5 rows × 29 columns</p>\n",
       "</div>"
      ],
      "text/plain": [
       "      ID Year_Birth   Education Marital_Status   Income Kidhome Teenhome  \\\n",
       "0   1826       1970  Graduation       Divorced  84835.0       0        0   \n",
       "1      1       1961  Graduation         Single  57091.0       0        0   \n",
       "2  10476       1958  Graduation        Married  67267.0       0        1   \n",
       "3   1386       1967  Graduation       Together  32474.0       1        1   \n",
       "4   5371       1989  Graduation         Single  21474.0       1        0   \n",
       "\n",
       "  Dt_Customer  Recency  MntWines  ...  NumWebVisitsMonth  AcceptedCmp3  \\\n",
       "0  2014-06-16        0       189  ...                  1             0   \n",
       "1  2014-06-15        0       464  ...                  5             0   \n",
       "2  2014-05-13        0       134  ...                  2             0   \n",
       "3  2014-05-11        0        10  ...                  7             0   \n",
       "4  2014-04-08        0         6  ...                  7             1   \n",
       "\n",
       "   AcceptedCmp4  AcceptedCmp5  AcceptedCmp1 AcceptedCmp2 Response Complain  \\\n",
       "0             0             0             0            0        1        0   \n",
       "1             0             0             0            1        1        0   \n",
       "2             0             0             0            0        0        0   \n",
       "3             0             0             0            0        0        0   \n",
       "4             0             0             0            0        1        0   \n",
       "\n",
       "  Country accepted_campaign  \n",
       "0      SP                 1  \n",
       "1      CA                 2  \n",
       "2      US                 0  \n",
       "3     AUS                 0  \n",
       "4      SP                 2  \n",
       "\n",
       "[5 rows x 29 columns]"
      ]
     },
     "execution_count": 69,
     "metadata": {},
     "output_type": "execute_result"
    }
   ],
   "source": [
    "df.head()"
   ]
  },
  {
   "cell_type": "code",
   "execution_count": 70,
   "id": "8a80354a",
   "metadata": {},
   "outputs": [],
   "source": [
    "df['campaign_accepted'] = np.where(df['accepted_campaign'] > 0, 1, 0)"
   ]
  },
  {
   "cell_type": "code",
   "execution_count": 71,
   "id": "e2fe6600",
   "metadata": {},
   "outputs": [
    {
     "data": {
      "text/html": [
       "<div>\n",
       "<style scoped>\n",
       "    .dataframe tbody tr th:only-of-type {\n",
       "        vertical-align: middle;\n",
       "    }\n",
       "\n",
       "    .dataframe tbody tr th {\n",
       "        vertical-align: top;\n",
       "    }\n",
       "\n",
       "    .dataframe thead th {\n",
       "        text-align: right;\n",
       "    }\n",
       "</style>\n",
       "<table border=\"1\" class=\"dataframe\">\n",
       "  <thead>\n",
       "    <tr style=\"text-align: right;\">\n",
       "      <th></th>\n",
       "      <th>ID</th>\n",
       "      <th>Year_Birth</th>\n",
       "      <th>Education</th>\n",
       "      <th>Marital_Status</th>\n",
       "      <th>Income</th>\n",
       "      <th>Kidhome</th>\n",
       "      <th>Teenhome</th>\n",
       "      <th>Dt_Customer</th>\n",
       "      <th>Recency</th>\n",
       "      <th>MntWines</th>\n",
       "      <th>...</th>\n",
       "      <th>AcceptedCmp3</th>\n",
       "      <th>AcceptedCmp4</th>\n",
       "      <th>AcceptedCmp5</th>\n",
       "      <th>AcceptedCmp1</th>\n",
       "      <th>AcceptedCmp2</th>\n",
       "      <th>Response</th>\n",
       "      <th>Complain</th>\n",
       "      <th>Country</th>\n",
       "      <th>accepted_campaign</th>\n",
       "      <th>campaign_accepted</th>\n",
       "    </tr>\n",
       "  </thead>\n",
       "  <tbody>\n",
       "    <tr>\n",
       "      <th>0</th>\n",
       "      <td>1826</td>\n",
       "      <td>1970</td>\n",
       "      <td>Graduation</td>\n",
       "      <td>Divorced</td>\n",
       "      <td>84835.0</td>\n",
       "      <td>0</td>\n",
       "      <td>0</td>\n",
       "      <td>2014-06-16</td>\n",
       "      <td>0</td>\n",
       "      <td>189</td>\n",
       "      <td>...</td>\n",
       "      <td>0</td>\n",
       "      <td>0</td>\n",
       "      <td>0</td>\n",
       "      <td>0</td>\n",
       "      <td>0</td>\n",
       "      <td>1</td>\n",
       "      <td>0</td>\n",
       "      <td>SP</td>\n",
       "      <td>1</td>\n",
       "      <td>1</td>\n",
       "    </tr>\n",
       "    <tr>\n",
       "      <th>1</th>\n",
       "      <td>1</td>\n",
       "      <td>1961</td>\n",
       "      <td>Graduation</td>\n",
       "      <td>Single</td>\n",
       "      <td>57091.0</td>\n",
       "      <td>0</td>\n",
       "      <td>0</td>\n",
       "      <td>2014-06-15</td>\n",
       "      <td>0</td>\n",
       "      <td>464</td>\n",
       "      <td>...</td>\n",
       "      <td>0</td>\n",
       "      <td>0</td>\n",
       "      <td>0</td>\n",
       "      <td>0</td>\n",
       "      <td>1</td>\n",
       "      <td>1</td>\n",
       "      <td>0</td>\n",
       "      <td>CA</td>\n",
       "      <td>2</td>\n",
       "      <td>1</td>\n",
       "    </tr>\n",
       "    <tr>\n",
       "      <th>2</th>\n",
       "      <td>10476</td>\n",
       "      <td>1958</td>\n",
       "      <td>Graduation</td>\n",
       "      <td>Married</td>\n",
       "      <td>67267.0</td>\n",
       "      <td>0</td>\n",
       "      <td>1</td>\n",
       "      <td>2014-05-13</td>\n",
       "      <td>0</td>\n",
       "      <td>134</td>\n",
       "      <td>...</td>\n",
       "      <td>0</td>\n",
       "      <td>0</td>\n",
       "      <td>0</td>\n",
       "      <td>0</td>\n",
       "      <td>0</td>\n",
       "      <td>0</td>\n",
       "      <td>0</td>\n",
       "      <td>US</td>\n",
       "      <td>0</td>\n",
       "      <td>0</td>\n",
       "    </tr>\n",
       "    <tr>\n",
       "      <th>3</th>\n",
       "      <td>1386</td>\n",
       "      <td>1967</td>\n",
       "      <td>Graduation</td>\n",
       "      <td>Together</td>\n",
       "      <td>32474.0</td>\n",
       "      <td>1</td>\n",
       "      <td>1</td>\n",
       "      <td>2014-05-11</td>\n",
       "      <td>0</td>\n",
       "      <td>10</td>\n",
       "      <td>...</td>\n",
       "      <td>0</td>\n",
       "      <td>0</td>\n",
       "      <td>0</td>\n",
       "      <td>0</td>\n",
       "      <td>0</td>\n",
       "      <td>0</td>\n",
       "      <td>0</td>\n",
       "      <td>AUS</td>\n",
       "      <td>0</td>\n",
       "      <td>0</td>\n",
       "    </tr>\n",
       "    <tr>\n",
       "      <th>4</th>\n",
       "      <td>5371</td>\n",
       "      <td>1989</td>\n",
       "      <td>Graduation</td>\n",
       "      <td>Single</td>\n",
       "      <td>21474.0</td>\n",
       "      <td>1</td>\n",
       "      <td>0</td>\n",
       "      <td>2014-04-08</td>\n",
       "      <td>0</td>\n",
       "      <td>6</td>\n",
       "      <td>...</td>\n",
       "      <td>1</td>\n",
       "      <td>0</td>\n",
       "      <td>0</td>\n",
       "      <td>0</td>\n",
       "      <td>0</td>\n",
       "      <td>1</td>\n",
       "      <td>0</td>\n",
       "      <td>SP</td>\n",
       "      <td>2</td>\n",
       "      <td>1</td>\n",
       "    </tr>\n",
       "  </tbody>\n",
       "</table>\n",
       "<p>5 rows × 30 columns</p>\n",
       "</div>"
      ],
      "text/plain": [
       "      ID Year_Birth   Education Marital_Status   Income Kidhome Teenhome  \\\n",
       "0   1826       1970  Graduation       Divorced  84835.0       0        0   \n",
       "1      1       1961  Graduation         Single  57091.0       0        0   \n",
       "2  10476       1958  Graduation        Married  67267.0       0        1   \n",
       "3   1386       1967  Graduation       Together  32474.0       1        1   \n",
       "4   5371       1989  Graduation         Single  21474.0       1        0   \n",
       "\n",
       "  Dt_Customer  Recency  MntWines  ...  AcceptedCmp3  AcceptedCmp4  \\\n",
       "0  2014-06-16        0       189  ...             0             0   \n",
       "1  2014-06-15        0       464  ...             0             0   \n",
       "2  2014-05-13        0       134  ...             0             0   \n",
       "3  2014-05-11        0        10  ...             0             0   \n",
       "4  2014-04-08        0         6  ...             1             0   \n",
       "\n",
       "   AcceptedCmp5  AcceptedCmp1  AcceptedCmp2 Response Complain Country  \\\n",
       "0             0             0             0        1        0      SP   \n",
       "1             0             0             1        1        0      CA   \n",
       "2             0             0             0        0        0      US   \n",
       "3             0             0             0        0        0     AUS   \n",
       "4             0             0             0        1        0      SP   \n",
       "\n",
       "  accepted_campaign campaign_accepted  \n",
       "0                 1                 1  \n",
       "1                 2                 1  \n",
       "2                 0                 0  \n",
       "3                 0                 0  \n",
       "4                 2                 1  \n",
       "\n",
       "[5 rows x 30 columns]"
      ]
     },
     "execution_count": 71,
     "metadata": {},
     "output_type": "execute_result"
    }
   ],
   "source": [
    "df.head()"
   ]
  },
  {
   "cell_type": "code",
   "execution_count": 72,
   "id": "792431b6",
   "metadata": {},
   "outputs": [
    {
     "data": {
      "text/plain": [
       "dtype('int32')"
      ]
     },
     "execution_count": 72,
     "metadata": {},
     "output_type": "execute_result"
    }
   ],
   "source": [
    "df['campaign_accepted'].dtype"
   ]
  },
  {
   "cell_type": "code",
   "execution_count": 73,
   "id": "9521b8fb",
   "metadata": {},
   "outputs": [
    {
     "data": {
      "text/plain": [
       "<Axes: xlabel='Education'>"
      ]
     },
     "execution_count": 73,
     "metadata": {},
     "output_type": "execute_result"
    },
    {
     "data": {
      "image/png": "[encoded data removed]",
      "text/plain": [
       "<Figure size 640x480 with 1 Axes>"
      ]
     },
     "metadata": {},
     "output_type": "display_data"
    }
   ],
   "source": [
    "tab = pd.crosstab(df['Education'], df['campaign_accepted'], normalize='index')\n",
    "\n",
    "tab.plot(kind='bar')"
   ]
  },
  {
   "cell_type": "code",
   "execution_count": 74,
   "id": "47b1d08c",
   "metadata": {},
   "outputs": [
    {
     "data": {
      "text/html": [
       "<div>\n",
       "<style scoped>\n",
       "    .dataframe tbody tr th:only-of-type {\n",
       "        vertical-align: middle;\n",
       "    }\n",
       "\n",
       "    .dataframe tbody tr th {\n",
       "        vertical-align: top;\n",
       "    }\n",
       "\n",
       "    .dataframe thead th {\n",
       "        text-align: right;\n",
       "    }\n",
       "</style>\n",
       "<table border=\"1\" class=\"dataframe\">\n",
       "  <thead>\n",
       "    <tr style=\"text-align: right;\">\n",
       "      <th>campaign_accepted</th>\n",
       "      <th>0</th>\n",
       "      <th>1</th>\n",
       "    </tr>\n",
       "    <tr>\n",
       "      <th>Education</th>\n",
       "      <th></th>\n",
       "      <th></th>\n",
       "    </tr>\n",
       "  </thead>\n",
       "  <tbody>\n",
       "    <tr>\n",
       "      <th>2n Cycle</th>\n",
       "      <td>0.773481</td>\n",
       "      <td>0.226519</td>\n",
       "    </tr>\n",
       "    <tr>\n",
       "      <th>Basic</th>\n",
       "      <td>0.877551</td>\n",
       "      <td>0.122449</td>\n",
       "    </tr>\n",
       "    <tr>\n",
       "      <th>Graduation</th>\n",
       "      <td>0.732535</td>\n",
       "      <td>0.267465</td>\n",
       "    </tr>\n",
       "    <tr>\n",
       "      <th>Master</th>\n",
       "      <td>0.722561</td>\n",
       "      <td>0.277439</td>\n",
       "    </tr>\n",
       "    <tr>\n",
       "      <th>PhD</th>\n",
       "      <td>0.674419</td>\n",
       "      <td>0.325581</td>\n",
       "    </tr>\n",
       "  </tbody>\n",
       "</table>\n",
       "</div>"
      ],
      "text/plain": [
       "campaign_accepted         0         1\n",
       "Education                            \n",
       "2n Cycle           0.773481  0.226519\n",
       "Basic              0.877551  0.122449\n",
       "Graduation         0.732535  0.267465\n",
       "Master             0.722561  0.277439\n",
       "PhD                0.674419  0.325581"
      ]
     },
     "execution_count": 74,
     "metadata": {},
     "output_type": "execute_result"
    }
   ],
   "source": [
    "tab"
   ]
  },
  {
   "cell_type": "markdown",
   "id": "7077eedc",
   "metadata": {},
   "source": [
    "### Income Vs Campaign Accepted"
   ]
  },
  {
   "cell_type": "code",
   "execution_count": 75,
   "id": "6f177dfe",
   "metadata": {},
   "outputs": [
    {
     "data": {
      "text/plain": [
       "<Axes: title={'center': 'Income'}, xlabel='campaign_accepted'>"
      ]
     },
     "execution_count": 75,
     "metadata": {},
     "output_type": "execute_result"
    },
    {
     "data": {
      "image/png": "[encoded data removed]",
      "text/plain": [
       "<Figure size 640x480 with 1 Axes>"
      ]
     },
     "metadata": {},
     "output_type": "display_data"
    }
   ],
   "source": [
    "df.boxplot(by='campaign_accepted', column='Income')"
   ]
  },
  {
   "cell_type": "markdown",
   "id": "ccb88b02",
   "metadata": {},
   "source": [
    "### Insights From The Project:"
   ]
  },
  {
   "cell_type": "markdown",
   "id": "a55db478",
   "metadata": {},
   "source": [
    "1. Most of the customers are from country SP\n",
    "2. There are many outliers in the dataset. For efficient analysis, the outliers are removed.\n",
    "3. Customers with higher income are purchasing more wines, meat and fish products comparing to lower income customers.\n",
    "4. Customers with teen at home are buying less fruits and customers with kid at home are buying less sweet products.\n",
    "5. Customers with relatively higher incomes are less inclined towards discounts.\n",
    "6. The last campaign i.e., Response is the most successful campaign out of all the campaigns conducted.\n",
    "7. Least number of people i.e., 30 responded to the second campaign AcceptedCmp2."
   ]
  },
  {
   "cell_type": "markdown",
   "id": "474b6ae3",
   "metadata": {},
   "source": [
    "## Task Completed By Miral Patel"
   ]
  },
  {
   "cell_type": "markdown",
   "id": "35234cce",
   "metadata": {},
   "source": [
    "## Thankyou"
   ]
  }
 ],
 "metadata": {
  "kernelspec": {
   "display_name": "Python 3 (ipykernel)",
   "language": "python",
   "name": "python3"
  },
  "language_info": {
   "codemirror_mode": {
    "name": "ipython",
    "version": 3
   },
   "file_extension": ".py",
   "mimetype": "text/x-python",
   "name": "python",
   "nbconvert_exporter": "python",
   "pygments_lexer": "ipython3",
   "version": "3.11.5"
  }
 },
 "nbformat": 4,
 "nbformat_minor": 5
}
